{
 "cells": [
  {
   "cell_type": "markdown",
   "metadata": {},
   "source": [
    "<center>\n",
    "    <h1>Tarea 3 ANN</h1>\n",
    "    <h2>Recurrent Neural Networks</h2>\n",
    "    <br>\n",
    "    <h3>Diego Pérez - 201173045-3</h3>\n",
    "    <h3>Ariel Sanhueza - ROL</h3>\n",
    "</center>"
   ]
  },
  {
   "cell_type": "markdown",
   "metadata": {},
   "source": [
    "### Importar modulos a utilizar"
   ]
  },
  {
   "cell_type": "code",
   "execution_count": 2,
   "metadata": {
    "collapsed": false
   },
   "outputs": [],
   "source": [
    "import numpy as np\n",
    "from theano.tensor.shared_randomstreams import RandomStreams\n",
    "\n",
    "from keras.models import Sequential, Model\n",
    "from keras.layers import LSTM, Dense, Dropout, Flatten, Input\n",
    "from keras.layers.embeddings import Embedding\n",
    "from keras.layers.convolutional import Convolution1D, MaxPooling1D\n",
    "from keras.models import load_model\n",
    "from keras.wrappers.scikit_learn import KerasRegressor\n",
    "from keras.datasets import imdb\n",
    "from keras.preprocessing import sequence\n",
    "\n",
    "import matplotlib.pyplot as plt\n",
    "\n",
    "%matplotlib inline"
   ]
  },
  {
   "cell_type": "markdown",
   "metadata": {},
   "source": [
    "### RNN en análisis de sentimientos"
   ]
  },
  {
   "cell_type": "markdown",
   "metadata": {},
   "source": [
    "#### a) Cargar dataset IMDB"
   ]
  },
  {
   "cell_type": "code",
   "execution_count": 3,
   "metadata": {
    "collapsed": false
   },
   "outputs": [
    {
     "name": "stdout",
     "output_type": "stream",
     "text": [
      "(25000,) (25000,)\n"
     ]
    }
   ],
   "source": [
    "np.random.seed(3)\n",
    "RandomStreams(8)\n",
    "\n",
    "(X_train, y_train), (X_test, y_test) = imdb.load_data(seed=15)\n",
    "\n",
    "print(X_train.shape, X_test.shape)"
   ]
  },
  {
   "cell_type": "markdown",
   "metadata": {},
   "source": [
    "#### b) Análisis del dataset"
   ]
  },
  {
   "cell_type": "code",
   "execution_count": 10,
   "metadata": {
    "collapsed": false
   },
   "outputs": [
    {
     "name": "stdout",
     "output_type": "stream",
     "text": [
      "# Palabras dataset:  50000\n"
     ]
    },
    {
     "data": {
      "image/png": "[encoded data removed]",
      "text/plain": [
       "<matplotlib.figure.Figure at 0x7fd0a58694e0>"
      ]
     },
     "metadata": {},
     "output_type": "display_data"
    }
   ],
   "source": [
    "X = np.concatenate((X_train, X_test), axis=0)\n",
    "y = np.concatenate((y_train, y_test), axis=0)\n",
    "\n",
    "print('# Palabras dataset: ', X.size)\n",
    "\n",
    "result = list(map(len, X))\n",
    "plt.boxplot(result)\n",
    "plt.show()\n",
    "\n",
    "del X, y"
   ]
  },
  {
   "cell_type": "markdown",
   "metadata": {},
   "source": [
    "#### c) Padding"
   ]
  },
  {
   "cell_type": "code",
   "execution_count": 4,
   "metadata": {
    "collapsed": false
   },
   "outputs": [
    {
     "name": "stdout",
     "output_type": "stream",
     "text": [
      "(25000, 500) (25000, 500)\n"
     ]
    }
   ],
   "source": [
    "(X_train, y_train), (X_test, y_test) = imdb.load_data(nb_words=5000, seed=15)\n",
    "X_train = sequence.pad_sequences(X_train, maxlen=500)\n",
    "X_test = sequence.pad_sequences(X_test, maxlen=500)\n",
    "\n",
    "print(X_train.shape, X_test.shape)"
   ]
  },
  {
   "cell_type": "markdown",
   "metadata": {},
   "source": [
    "#### d) LSTM con embedding\n",
    "\n",
    "Word embedding es una técnica común en el procesamiento natural del lenguaje, donde palabras (o frases) son mapeadas a un espacio de vectores de números reales. El dataset IMDB viene preprocesado, asignando a cada palabra un entero positivo, que además indica el ranking de frecuencia de aparición en el dataset. \n",
    "\n",
    "En Keras, se puede realizar el word embedding mediante una capa destinada a este propósito, que sólo se puede agregar inmediatamente después de la capa de entrada (Input). Como resultado se obtienen entradas en el espacio de vectores de dimensión d, eg. (25000, 500) -> (25000, 500, d). Se experimentará con distintos valores de d.\n",
    "\n",
    "d=32"
   ]
  },
  {
   "cell_type": "code",
   "execution_count": 14,
   "metadata": {
    "collapsed": false
   },
   "outputs": [
    {
     "name": "stdout",
     "output_type": "stream",
     "text": [
      "____________________________________________________________________________________________________\n",
      "Layer (type)                     Output Shape          Param #     Connected to                     \n",
      "====================================================================================================\n",
      "embedding_2 (Embedding)          (None, 500, 32)       160000      embedding_input_4[0][0]          \n",
      "____________________________________________________________________________________________________\n",
      "lstm_2 (LSTM)                    (None, 100)           53200       embedding_2[0][0]                \n",
      "____________________________________________________________________________________________________\n",
      "dense_2 (Dense)                  (None, 1)             101         lstm_2[0][0]                     \n",
      "====================================================================================================\n",
      "Total params: 213301\n",
      "____________________________________________________________________________________________________\n"
     ]
    },
    {
     "data": {
      "image/svg+xml": [
       "<svg height=\"264pt\" viewBox=\"0.00 0.00 201.00 264.00\" width=\"201pt\" xmlns=\"http://www.w3.org/2000/svg\" xmlns:xlink=\"http://www.w3.org/1999/xlink\">\n",
       "<g class=\"graph\" id=\"graph0\" transform=\"scale(1 1) rotate(0) translate(4 260)\">\n",
       "<title>G</title>\n",
       "<polygon fill=\"white\" points=\"-4,4 -4,-260 197,-260 197,4 -4,4\" stroke=\"none\"/>\n",
       "<!-- 140534152818248 -->\n",
       "<g class=\"node\" id=\"node1\"><title>140534152818248</title>\n",
       "<polygon fill=\"none\" points=\"0,-219.5 0,-255.5 193,-255.5 193,-219.5 0,-219.5\" stroke=\"black\"/>\n",
       "<text font-family=\"Times,serif\" font-size=\"14.00\" text-anchor=\"middle\" x=\"96.5\" y=\"-233.8\">embedding_input_4: InputLayer</text>\n",
       "</g>\n",
       "<!-- 140534152818136 -->\n",
       "<g class=\"node\" id=\"node2\"><title>140534152818136</title>\n",
       "<polygon fill=\"none\" points=\"16,-146.5 16,-182.5 177,-182.5 177,-146.5 16,-146.5\" stroke=\"black\"/>\n",
       "<text font-family=\"Times,serif\" font-size=\"14.00\" text-anchor=\"middle\" x=\"96.5\" y=\"-160.8\">embedding_2: Embedding</text>\n",
       "</g>\n",
       "<!-- 140534152818248&#45;&gt;140534152818136 -->\n",
       "<g class=\"edge\" id=\"edge1\"><title>140534152818248-&gt;140534152818136</title>\n",
       "<path d=\"M96.5,-219.313C96.5,-211.289 96.5,-201.547 96.5,-192.569\" fill=\"none\" stroke=\"black\"/>\n",
       "<polygon fill=\"black\" points=\"100,-192.529 96.5,-182.529 93.0001,-192.529 100,-192.529\" stroke=\"black\"/>\n",
       "</g>\n",
       "<!-- 140534152818192 -->\n",
       "<g class=\"node\" id=\"node3\"><title>140534152818192</title>\n",
       "<polygon fill=\"none\" points=\"47.5,-73.5 47.5,-109.5 145.5,-109.5 145.5,-73.5 47.5,-73.5\" stroke=\"black\"/>\n",
       "<text font-family=\"Times,serif\" font-size=\"14.00\" text-anchor=\"middle\" x=\"96.5\" y=\"-87.8\">lstm_2: LSTM</text>\n",
       "</g>\n",
       "<!-- 140534152818136&#45;&gt;140534152818192 -->\n",
       "<g class=\"edge\" id=\"edge2\"><title>140534152818136-&gt;140534152818192</title>\n",
       "<path d=\"M96.5,-146.313C96.5,-138.289 96.5,-128.547 96.5,-119.569\" fill=\"none\" stroke=\"black\"/>\n",
       "<polygon fill=\"black\" points=\"100,-119.529 96.5,-109.529 93.0001,-119.529 100,-119.529\" stroke=\"black\"/>\n",
       "</g>\n",
       "<!-- 140534152615920 -->\n",
       "<g class=\"node\" id=\"node4\"><title>140534152615920</title>\n",
       "<polygon fill=\"none\" points=\"45.5,-0.5 45.5,-36.5 147.5,-36.5 147.5,-0.5 45.5,-0.5\" stroke=\"black\"/>\n",
       "<text font-family=\"Times,serif\" font-size=\"14.00\" text-anchor=\"middle\" x=\"96.5\" y=\"-14.8\">dense_2: Dense</text>\n",
       "</g>\n",
       "<!-- 140534152818192&#45;&gt;140534152615920 -->\n",
       "<g class=\"edge\" id=\"edge3\"><title>140534152818192-&gt;140534152615920</title>\n",
       "<path d=\"M96.5,-73.3129C96.5,-65.2895 96.5,-55.5475 96.5,-46.5691\" fill=\"none\" stroke=\"black\"/>\n",
       "<polygon fill=\"black\" points=\"100,-46.5288 96.5,-36.5288 93.0001,-46.5289 100,-46.5288\" stroke=\"black\"/>\n",
       "</g>\n",
       "</g>\n",
       "</svg>"
      ],
      "text/plain": [
       "<IPython.core.display.SVG object>"
      ]
     },
     "execution_count": 14,
     "metadata": {},
     "output_type": "execute_result"
    }
   ],
   "source": [
    "embedding_vector_length = 32\n",
    "model = Sequential()\n",
    "model.add(Embedding(5000, embedding_vector_length, input_length=500))\n",
    "model.add(LSTM(100))\n",
    "model.add(Dense(1, activation='sigmoid'))\n",
    "model.compile(loss='binary_crossentropy', optimizer='adam', metrics=['accuracy'])\n",
    "model.summary()\n",
    "\n",
    "from IPython.display import SVG\n",
    "from keras.utils.visualize_util import model_to_dot\n",
    "\n",
    "SVG(model_to_dot(model).create(prog='dot', format='svg'))"
   ]
  },
  {
   "cell_type": "code",
   "execution_count": null,
   "metadata": {
    "collapsed": false
   },
   "outputs": [],
   "source": [
    "model.fit(X_train, y_train, validation_data=(X_test, y_test), nb_epoch=3, batch_size=64)\n",
    "model.save('RNN-lstm-emb32.h5')"
   ]
  },
  {
   "cell_type": "markdown",
   "metadata": {
    "collapsed": true
   },
   "source": [
    "#### Resultados\n",
    "\n",
    "Precisión de clasificación"
   ]
  },
  {
   "cell_type": "code",
   "execution_count": 13,
   "metadata": {
    "collapsed": false
   },
   "outputs": [
    {
     "name": "stdout",
     "output_type": "stream",
     "text": [
      "Precisión de clasificación LSTM 32-vector embedding:  0.85656\n"
     ]
    }
   ],
   "source": [
    "model = load_model('RNN-lstm-emb32.h5')\n",
    "score_emb32 = model.evaluate(X_test, y_test, verbose=0)\n",
    "print('Precisión de clasificación LSTM 32-vector embedding: ', score_emb32[1])"
   ]
  },
  {
   "cell_type": "markdown",
   "metadata": {},
   "source": [
    "#### e) Probar con distintos d\n",
    "\n",
    "d=16"
   ]
  },
  {
   "cell_type": "code",
   "execution_count": 15,
   "metadata": {
    "collapsed": false
   },
   "outputs": [
    {
     "name": "stdout",
     "output_type": "stream",
     "text": [
      "____________________________________________________________________________________________________\n",
      "Layer (type)                     Output Shape          Param #     Connected to                     \n",
      "====================================================================================================\n",
      "embedding_3 (Embedding)          (None, 500, 16)       80000       embedding_input_5[0][0]          \n",
      "____________________________________________________________________________________________________\n",
      "lstm_3 (LSTM)                    (None, 100)           46800       embedding_3[0][0]                \n",
      "____________________________________________________________________________________________________\n",
      "dense_3 (Dense)                  (None, 1)             101         lstm_3[0][0]                     \n",
      "====================================================================================================\n",
      "Total params: 126901\n",
      "____________________________________________________________________________________________________\n"
     ]
    },
    {
     "data": {
      "image/svg+xml": [
       "<svg height=\"264pt\" viewBox=\"0.00 0.00 201.00 264.00\" width=\"201pt\" xmlns=\"http://www.w3.org/2000/svg\" xmlns:xlink=\"http://www.w3.org/1999/xlink\">\n",
       "<g class=\"graph\" id=\"graph0\" transform=\"scale(1 1) rotate(0) translate(4 260)\">\n",
       "<title>G</title>\n",
       "<polygon fill=\"white\" points=\"-4,4 -4,-260 197,-260 197,4 -4,4\" stroke=\"none\"/>\n",
       "<!-- 140534252406880 -->\n",
       "<g class=\"node\" id=\"node1\"><title>140534252406880</title>\n",
       "<polygon fill=\"none\" points=\"0,-219.5 0,-255.5 193,-255.5 193,-219.5 0,-219.5\" stroke=\"black\"/>\n",
       "<text font-family=\"Times,serif\" font-size=\"14.00\" text-anchor=\"middle\" x=\"96.5\" y=\"-233.8\">embedding_input_5: InputLayer</text>\n",
       "</g>\n",
       "<!-- 140534152818024 -->\n",
       "<g class=\"node\" id=\"node2\"><title>140534152818024</title>\n",
       "<polygon fill=\"none\" points=\"16,-146.5 16,-182.5 177,-182.5 177,-146.5 16,-146.5\" stroke=\"black\"/>\n",
       "<text font-family=\"Times,serif\" font-size=\"14.00\" text-anchor=\"middle\" x=\"96.5\" y=\"-160.8\">embedding_3: Embedding</text>\n",
       "</g>\n",
       "<!-- 140534252406880&#45;&gt;140534152818024 -->\n",
       "<g class=\"edge\" id=\"edge1\"><title>140534252406880-&gt;140534152818024</title>\n",
       "<path d=\"M96.5,-219.313C96.5,-211.289 96.5,-201.547 96.5,-192.569\" fill=\"none\" stroke=\"black\"/>\n",
       "<polygon fill=\"black\" points=\"100,-192.529 96.5,-182.529 93.0001,-192.529 100,-192.529\" stroke=\"black\"/>\n",
       "</g>\n",
       "<!-- 140534252395432 -->\n",
       "<g class=\"node\" id=\"node3\"><title>140534252395432</title>\n",
       "<polygon fill=\"none\" points=\"47.5,-73.5 47.5,-109.5 145.5,-109.5 145.5,-73.5 47.5,-73.5\" stroke=\"black\"/>\n",
       "<text font-family=\"Times,serif\" font-size=\"14.00\" text-anchor=\"middle\" x=\"96.5\" y=\"-87.8\">lstm_3: LSTM</text>\n",
       "</g>\n",
       "<!-- 140534152818024&#45;&gt;140534252395432 -->\n",
       "<g class=\"edge\" id=\"edge2\"><title>140534152818024-&gt;140534252395432</title>\n",
       "<path d=\"M96.5,-146.313C96.5,-138.289 96.5,-128.547 96.5,-119.569\" fill=\"none\" stroke=\"black\"/>\n",
       "<polygon fill=\"black\" points=\"100,-119.529 96.5,-109.529 93.0001,-119.529 100,-119.529\" stroke=\"black\"/>\n",
       "</g>\n",
       "<!-- 140534216184664 -->\n",
       "<g class=\"node\" id=\"node4\"><title>140534216184664</title>\n",
       "<polygon fill=\"none\" points=\"45.5,-0.5 45.5,-36.5 147.5,-36.5 147.5,-0.5 45.5,-0.5\" stroke=\"black\"/>\n",
       "<text font-family=\"Times,serif\" font-size=\"14.00\" text-anchor=\"middle\" x=\"96.5\" y=\"-14.8\">dense_3: Dense</text>\n",
       "</g>\n",
       "<!-- 140534252395432&#45;&gt;140534216184664 -->\n",
       "<g class=\"edge\" id=\"edge3\"><title>140534252395432-&gt;140534216184664</title>\n",
       "<path d=\"M96.5,-73.3129C96.5,-65.2895 96.5,-55.5475 96.5,-46.5691\" fill=\"none\" stroke=\"black\"/>\n",
       "<polygon fill=\"black\" points=\"100,-46.5288 96.5,-36.5288 93.0001,-46.5289 100,-46.5288\" stroke=\"black\"/>\n",
       "</g>\n",
       "</g>\n",
       "</svg>"
      ],
      "text/plain": [
       "<IPython.core.display.SVG object>"
      ]
     },
     "execution_count": 15,
     "metadata": {},
     "output_type": "execute_result"
    }
   ],
   "source": [
    "embedding_vector_length = 16\n",
    "model = Sequential()\n",
    "model.add(Embedding(5000, embedding_vector_length, input_length=500))\n",
    "model.add(LSTM(100))\n",
    "model.add(Dense(1, activation='sigmoid'))\n",
    "model.compile(loss='binary_crossentropy', optimizer='adam', metrics=['accuracy'])\n",
    "model.summary()\n",
    "\n",
    "from IPython.display import SVG\n",
    "from keras.utils.visualize_util import model_to_dot\n",
    "\n",
    "SVG(model_to_dot(model).create(prog='dot', format='svg'))"
   ]
  },
  {
   "cell_type": "markdown",
   "metadata": {},
   "source": [
    "#### Resultados\n",
    "\n",
    "Precisión de Clasificación"
   ]
  },
  {
   "cell_type": "code",
   "execution_count": 16,
   "metadata": {
    "collapsed": false
   },
   "outputs": [
    {
     "name": "stdout",
     "output_type": "stream",
     "text": [
      "Precisión de clasificación LSTM 16-vector embedding:  0.86968\n"
     ]
    }
   ],
   "source": [
    "model = load_model('RNN-lstm-emb16.h5')\n",
    "score_emb16 = model.evaluate(X_test, y_test, verbose=0)\n",
    "print('Precisión de clasificación LSTM 16-vector embedding: ', score_emb16[1])"
   ]
  },
  {
   "cell_type": "markdown",
   "metadata": {},
   "source": [
    "d=64"
   ]
  },
  {
   "cell_type": "code",
   "execution_count": 17,
   "metadata": {
    "collapsed": false
   },
   "outputs": [
    {
     "name": "stdout",
     "output_type": "stream",
     "text": [
      "____________________________________________________________________________________________________\n",
      "Layer (type)                     Output Shape          Param #     Connected to                     \n",
      "====================================================================================================\n",
      "embedding_4 (Embedding)          (None, 500, 64)       320000      embedding_input_7[0][0]          \n",
      "____________________________________________________________________________________________________\n",
      "lstm_4 (LSTM)                    (None, 100)           66000       embedding_4[0][0]                \n",
      "____________________________________________________________________________________________________\n",
      "dense_4 (Dense)                  (None, 1)             101         lstm_4[0][0]                     \n",
      "====================================================================================================\n",
      "Total params: 386101\n",
      "____________________________________________________________________________________________________\n"
     ]
    },
    {
     "data": {
      "image/svg+xml": [
       "<svg height=\"264pt\" viewBox=\"0.00 0.00 201.00 264.00\" width=\"201pt\" xmlns=\"http://www.w3.org/2000/svg\" xmlns:xlink=\"http://www.w3.org/1999/xlink\">\n",
       "<g class=\"graph\" id=\"graph0\" transform=\"scale(1 1) rotate(0) translate(4 260)\">\n",
       "<title>G</title>\n",
       "<polygon fill=\"white\" points=\"-4,4 -4,-260 197,-260 197,4 -4,4\" stroke=\"none\"/>\n",
       "<!-- 140534152761240 -->\n",
       "<g class=\"node\" id=\"node1\"><title>140534152761240</title>\n",
       "<polygon fill=\"none\" points=\"0,-219.5 0,-255.5 193,-255.5 193,-219.5 0,-219.5\" stroke=\"black\"/>\n",
       "<text font-family=\"Times,serif\" font-size=\"14.00\" text-anchor=\"middle\" x=\"96.5\" y=\"-233.8\">embedding_input_7: InputLayer</text>\n",
       "</g>\n",
       "<!-- 140534152757488 -->\n",
       "<g class=\"node\" id=\"node2\"><title>140534152757488</title>\n",
       "<polygon fill=\"none\" points=\"16,-146.5 16,-182.5 177,-182.5 177,-146.5 16,-146.5\" stroke=\"black\"/>\n",
       "<text font-family=\"Times,serif\" font-size=\"14.00\" text-anchor=\"middle\" x=\"96.5\" y=\"-160.8\">embedding_4: Embedding</text>\n",
       "</g>\n",
       "<!-- 140534152761240&#45;&gt;140534152757488 -->\n",
       "<g class=\"edge\" id=\"edge1\"><title>140534152761240-&gt;140534152757488</title>\n",
       "<path d=\"M96.5,-219.313C96.5,-211.289 96.5,-201.547 96.5,-192.569\" fill=\"none\" stroke=\"black\"/>\n",
       "<polygon fill=\"black\" points=\"100,-192.529 96.5,-182.529 93.0001,-192.529 100,-192.529\" stroke=\"black\"/>\n",
       "</g>\n",
       "<!-- 140534266435512 -->\n",
       "<g class=\"node\" id=\"node3\"><title>140534266435512</title>\n",
       "<polygon fill=\"none\" points=\"47.5,-73.5 47.5,-109.5 145.5,-109.5 145.5,-73.5 47.5,-73.5\" stroke=\"black\"/>\n",
       "<text font-family=\"Times,serif\" font-size=\"14.00\" text-anchor=\"middle\" x=\"96.5\" y=\"-87.8\">lstm_4: LSTM</text>\n",
       "</g>\n",
       "<!-- 140534152757488&#45;&gt;140534266435512 -->\n",
       "<g class=\"edge\" id=\"edge2\"><title>140534152757488-&gt;140534266435512</title>\n",
       "<path d=\"M96.5,-146.313C96.5,-138.289 96.5,-128.547 96.5,-119.569\" fill=\"none\" stroke=\"black\"/>\n",
       "<polygon fill=\"black\" points=\"100,-119.529 96.5,-109.529 93.0001,-119.529 100,-119.529\" stroke=\"black\"/>\n",
       "</g>\n",
       "<!-- 140534265897424 -->\n",
       "<g class=\"node\" id=\"node4\"><title>140534265897424</title>\n",
       "<polygon fill=\"none\" points=\"45.5,-0.5 45.5,-36.5 147.5,-36.5 147.5,-0.5 45.5,-0.5\" stroke=\"black\"/>\n",
       "<text font-family=\"Times,serif\" font-size=\"14.00\" text-anchor=\"middle\" x=\"96.5\" y=\"-14.8\">dense_4: Dense</text>\n",
       "</g>\n",
       "<!-- 140534266435512&#45;&gt;140534265897424 -->\n",
       "<g class=\"edge\" id=\"edge3\"><title>140534266435512-&gt;140534265897424</title>\n",
       "<path d=\"M96.5,-73.3129C96.5,-65.2895 96.5,-55.5475 96.5,-46.5691\" fill=\"none\" stroke=\"black\"/>\n",
       "<polygon fill=\"black\" points=\"100,-46.5288 96.5,-36.5288 93.0001,-46.5289 100,-46.5288\" stroke=\"black\"/>\n",
       "</g>\n",
       "</g>\n",
       "</svg>"
      ],
      "text/plain": [
       "<IPython.core.display.SVG object>"
      ]
     },
     "execution_count": 17,
     "metadata": {},
     "output_type": "execute_result"
    }
   ],
   "source": [
    "embedding_vector_length = 64\n",
    "model = Sequential()\n",
    "model.add(Embedding(5000, embedding_vector_length, input_length=500))\n",
    "model.add(LSTM(100))\n",
    "model.add(Dense(1, activation='sigmoid'))\n",
    "model.compile(loss='binary_crossentropy', optimizer='adam', metrics=['accuracy'])\n",
    "model.summary()\n",
    "\n",
    "from IPython.display import SVG\n",
    "from keras.utils.visualize_util import model_to_dot\n",
    "\n",
    "SVG(model_to_dot(model).create(prog='dot', format='svg'))"
   ]
  },
  {
   "cell_type": "markdown",
   "metadata": {},
   "source": [
    "#### Resultados\n",
    "\n",
    "Precisión de Clasificación"
   ]
  },
  {
   "cell_type": "code",
   "execution_count": 18,
   "metadata": {
    "collapsed": false
   },
   "outputs": [
    {
     "name": "stdout",
     "output_type": "stream",
     "text": [
      "Precisión de clasificación LSTM 64-vector embedding:  0.86508\n"
     ]
    }
   ],
   "source": [
    "model = load_model('RNN-lstm-emb64.h5')\n",
    "score_emb64 = model.evaluate(X_test, y_test, verbose=0)\n",
    "print('Precisión de clasificación LSTM 64-vector embedding: ', score_emb64[1])"
   ]
  },
  {
   "cell_type": "markdown",
   "metadata": {},
   "source": [
    "#### Comparación"
   ]
  },
  {
   "cell_type": "code",
   "execution_count": 22,
   "metadata": {
    "collapsed": false
   },
   "outputs": [
    {
     "data": {
      "text/plain": [
       "<matplotlib.legend.Legend at 0x7fd0a76a1a90>"
      ]
     },
     "execution_count": 22,
     "metadata": {},
     "output_type": "execute_result"
    },
    {
     "data": {
      "image/png": "[encoded data removed]",
      "text/plain": [
       "<matplotlib.figure.Figure at 0x7fd0a8a0d9b0>"
      ]
     },
     "metadata": {},
     "output_type": "display_data"
    }
   ],
   "source": [
    "fig = plt.figure()\n",
    "ax = fig.add_subplot(111)\n",
    "ax.set_ylabel('Precisión - Pérdida')\n",
    "ax.set_xlabel('Tamaño del vector')\n",
    "ax.set_xticks(np.array([0,1,2]) + 0.3)\n",
    "ax.set_xticklabels(np.array([16,32,64]).astype('str'))\n",
    "\n",
    "ax.bar(np.arange(0,3), [score_emb16[1], score_emb32[1], score_emb64[1]], width=0.3, color='red', label='Precisión')\n",
    "ax.bar(np.arange(0.3, 3.3), [score_emb16[0], score_emb32[0], score_emb64[0]], width=0.3, label='Pérdida')\n",
    "box = ax.get_position()\n",
    "ax.set_position([box.x0, box.y0, box.width * 0.8, box.height])\n",
    "ax.legend(loc='center left', bbox_to_anchor=(1, 0.5))"
   ]
  },
  {
   "cell_type": "markdown",
   "metadata": {},
   "source": [
    "Parece no tener efecto el tamaño del vector en el rendimiento de la red. Es posible que la tendencia al overfitting  del modelo (razón por la cual se entrena solo 3 epochs) no permita obtener las diferencias de precisión entre los distintos tamaños de vector.\n",
    "Para este experimento se utilizaron las 5000 palabras top del dataset, esto quiere decir, que para todos los samples, cualquier palabra fuera de las 5000 más frecuentes, se reemplazará por un cero. De cierta forma, este paso realizó una extracción de características, que no sabemos si es óptima. \n",
    "Aumentar o disminuir el número de palabras top cambia los descriptores, y por lo tanto puede ocultar o revelar ciertas relaciones que posiblemente son útiles para la clasificación. Entonces, antes de atacar el problema del overfitting, se experimentará con el número de palabras top, y su relación con el tamaño del vector."
   ]
  },
  {
   "cell_type": "markdown",
   "metadata": {},
   "source": [
    "#### f) Variar las palabras top"
   ]
  },
  {
   "cell_type": "markdown",
   "metadata": {},
   "source": [
    "#### top_words=3000"
   ]
  },
  {
   "cell_type": "code",
   "execution_count": 24,
   "metadata": {
    "collapsed": true
   },
   "outputs": [],
   "source": [
    "(X_train, y_train), (X_test, y_test) = imdb.load_data(nb_words=3000, seed=15)\n",
    "X_train = sequence.pad_sequences(X_train, maxlen=500)\n",
    "X_test = sequence.pad_sequences(X_test, maxlen=500)"
   ]
  },
  {
   "cell_type": "markdown",
   "metadata": {},
   "source": [
    "d=16"
   ]
  },
  {
   "cell_type": "code",
   "execution_count": null,
   "metadata": {
    "collapsed": true
   },
   "outputs": [],
   "source": [
    "embedding_vector_length = 16\n",
    "model = Sequential()\n",
    "model.add(Embedding(3000, embedding_vector_length, input_length=500))\n",
    "model.add(LSTM(100))\n",
    "model.add(Dense(1, activation='sigmoid'))\n",
    "model.compile(loss='binary_crossentropy', optimizer='adam', metrics=['accuracy'])\n",
    "model.fit(X_train, y_train, validation_data=(X_test, y_test), nb_epoch=3, batch_size=64)\n",
    "model.save('RNN-lstm-emb16-word3000.h5')"
   ]
  },
  {
   "cell_type": "markdown",
   "metadata": {},
   "source": [
    "d=32"
   ]
  },
  {
   "cell_type": "code",
   "execution_count": null,
   "metadata": {
    "collapsed": true
   },
   "outputs": [],
   "source": [
    "embedding_vector_length = 32\n",
    "model = Sequential()\n",
    "model.add(Embedding(3000, embedding_vector_length, input_length=500))\n",
    "model.add(LSTM(100))\n",
    "model.add(Dense(1, activation='sigmoid'))\n",
    "model.compile(loss='binary_crossentropy', optimizer='adam', metrics=['accuracy'])\n",
    "model.fit(X_train, y_train, validation_data=(X_test, y_test), nb_epoch=3, batch_size=64)\n",
    "model.save('RNN-lstm-emb32-word3000.h5')"
   ]
  },
  {
   "cell_type": "markdown",
   "metadata": {},
   "source": [
    "d=64"
   ]
  },
  {
   "cell_type": "code",
   "execution_count": null,
   "metadata": {
    "collapsed": true
   },
   "outputs": [],
   "source": [
    "embedding_vector_length = 64\n",
    "model = Sequential()\n",
    "model.add(Embedding(3000, embedding_vector_length, input_length=500))\n",
    "model.add(LSTM(100))\n",
    "model.add(Dense(1, activation='sigmoid'))\n",
    "model.compile(loss='binary_crossentropy', optimizer='adam', metrics=['accuracy'])\n",
    "model.fit(X_train, y_train, validation_data=(X_test, y_test), nb_epoch=3, batch_size=64)\n",
    "model.save('RNN-lstm-emb64-word3000.h5')"
   ]
  },
  {
   "cell_type": "markdown",
   "metadata": {},
   "source": [
    "#### Resultados\n",
    "\n",
    "Precisión de Clasificación"
   ]
  },
  {
   "cell_type": "code",
   "execution_count": null,
   "metadata": {
    "collapsed": false
   },
   "outputs": [],
   "source": [
    "score_word3000_train = np.array([])\n",
    "score_word3000_test = np.array([])\n",
    "model = load_model('RNN-lstm-emb16-word3000.h5')\n",
    "score_word3000_train = np.append(score_word3000_train, model.evaluate(X_train, y_train, verbose=0)[1])\n",
    "score_word3000_test = np.append(score_word3000_test, model.evaluate(X_test, y_test, verbose=0)[1])\n",
    "model = load_model('RNN-lstm-emb32-word3000.h5')\n",
    "score_word3000_train = np.append(score_word3000_train, model.evaluate(X_train, y_train, verbose=0)[1])\n",
    "score_word3000_test = np.append(score_word3000_test, model.evaluate(X_test, y_test, verbose=0)[1])\n",
    "model = load_model('RNN-lstm-emb64-word3000.h5')\n",
    "score_word3000_train = np.append(score_word3000_train, model.evaluate(X_train, y_train, verbose=0)[1])\n",
    "score_word3000_test = np.append(score_word3000_test, model.evaluate(X_test, y_test, verbose=0)[1])"
   ]
  },
  {
   "cell_type": "code",
   "execution_count": 27,
   "metadata": {
    "collapsed": false
   },
   "outputs": [
    {
     "data": {
      "text/plain": [
       "<matplotlib.legend.Legend at 0x7fd0a7fb96d8>"
      ]
     },
     "execution_count": 27,
     "metadata": {},
     "output_type": "execute_result"
    },
    {
     "data": {
      "image/png": "[encoded data removed]",
      "text/plain": [
       "<matplotlib.figure.Figure at 0x7fd0ac76e550>"
      ]
     },
     "metadata": {},
     "output_type": "display_data"
    }
   ],
   "source": [
    "fig = plt.figure()\n",
    "ax = fig.add_subplot(111)\n",
    "ax.set_ylabel('Precisión')\n",
    "ax.set_xlabel('Tamaño del vector')\n",
    "ax.set_xticks(np.array([0,1,2]) + 0.3)\n",
    "ax.set_xticklabels(np.array([16,32,64]).astype('str'))\n",
    "\n",
    "ax.bar(np.arange(0,3), score_word3000_train, width=0.3, color='red', label='Entrenamiento')\n",
    "ax.bar(np.arange(0.3, 3.3), score_word3000_test, width=0.3, label='Prueba')\n",
    "box = ax.get_position()\n",
    "ax.set_position([box.x0, box.y0, box.width * 0.8, box.height])\n",
    "ax.legend(loc='center left', bbox_to_anchor=(1, 0.5))"
   ]
  },
  {
   "cell_type": "markdown",
   "metadata": {},
   "source": [
    "#### top_words=8000"
   ]
  },
  {
   "cell_type": "code",
   "execution_count": 26,
   "metadata": {
    "collapsed": true
   },
   "outputs": [],
   "source": [
    "(X_train, y_train), (X_test, y_test) = imdb.load_data(nb_words=8000, seed=15)\n",
    "X_train = sequence.pad_sequences(X_train, maxlen=500)\n",
    "X_test = sequence.pad_sequences(X_test, maxlen=500)"
   ]
  },
  {
   "cell_type": "markdown",
   "metadata": {},
   "source": [
    "d=16"
   ]
  },
  {
   "cell_type": "code",
   "execution_count": null,
   "metadata": {
    "collapsed": true
   },
   "outputs": [],
   "source": [
    "embedding_vector_length = 16\n",
    "model = Sequential()\n",
    "model.add(Embedding(8000, embedding_vector_length, input_length=500))\n",
    "model.add(LSTM(100))\n",
    "model.add(Dense(1, activation='sigmoid'))\n",
    "model.compile(loss='binary_crossentropy', optimizer='adam', metrics=['accuracy'])\n",
    "model.fit(X_train, y_train, validation_data=(X_test, y_test), nb_epoch=3, batch_size=64)\n",
    "model.save('RNN-lstm-emb16-word8000.h5')"
   ]
  },
  {
   "cell_type": "markdown",
   "metadata": {},
   "source": [
    "d=32"
   ]
  },
  {
   "cell_type": "code",
   "execution_count": null,
   "metadata": {
    "collapsed": true
   },
   "outputs": [],
   "source": [
    "embedding_vector_length = 32\n",
    "model = Sequential()\n",
    "model.add(Embedding(8000, embedding_vector_length, input_length=500))\n",
    "model.add(LSTM(100))\n",
    "model.add(Dense(1, activation='sigmoid'))\n",
    "model.compile(loss='binary_crossentropy', optimizer='adam', metrics=['accuracy'])\n",
    "model.fit(X_train, y_train, validation_data=(X_test, y_test), nb_epoch=3, batch_size=64)\n",
    "model.save('RNN-lstm-emb32-word8000.h5')"
   ]
  },
  {
   "cell_type": "markdown",
   "metadata": {},
   "source": [
    "d=64"
   ]
  },
  {
   "cell_type": "code",
   "execution_count": null,
   "metadata": {
    "collapsed": true
   },
   "outputs": [],
   "source": [
    "embedding_vector_length = 64\n",
    "model = Sequential()\n",
    "model.add(Embedding(8000, embedding_vector_length, input_length=500))\n",
    "model.add(LSTM(100))\n",
    "model.add(Dense(1, activation='sigmoid'))\n",
    "model.compile(loss='binary_crossentropy', optimizer='adam', metrics=['accuracy'])\n",
    "model.fit(X_train, y_train, validation_data=(X_test, y_test), nb_epoch=3, batch_size=64)\n",
    "model.save('RNN-lstm-emb64-word8000.h5')"
   ]
  },
  {
   "cell_type": "markdown",
   "metadata": {},
   "source": [
    "#### Resultados\n",
    "\n",
    "Precisión de Clasificación"
   ]
  },
  {
   "cell_type": "code",
   "execution_count": 28,
   "metadata": {
    "collapsed": true
   },
   "outputs": [],
   "source": [
    "score_word8000_train = np.array([])\n",
    "score_word8000_test = np.array([])\n",
    "model = load_model('RNN-lstm-emb16-word8000.h5')\n",
    "score_word8000_train = np.append(score_word8000_train, model.evaluate(X_train, y_train, verbose=0)[1])\n",
    "score_word8000_test = np.append(score_word8000_test, model.evaluate(X_test, y_test, verbose=0)[1])\n",
    "model = load_model('RNN-lstm-emb32-word8000.h5')\n",
    "score_word8000_train = np.append(score_word8000_train, model.evaluate(X_train, y_train, verbose=0)[1])\n",
    "score_word8000_test = np.append(score_word8000_test, model.evaluate(X_test, y_test, verbose=0)[1])\n",
    "model = load_model('RNN-lstm-emb64-word8000.h5')\n",
    "score_word8000_train = np.append(score_word8000_train, model.evaluate(X_train, y_train, verbose=0)[1])\n",
    "score_word8000_test = np.append(score_word8000_test, model.evaluate(X_test, y_test, verbose=0)[1])"
   ]
  },
  {
   "cell_type": "code",
   "execution_count": 29,
   "metadata": {
    "collapsed": false
   },
   "outputs": [
    {
     "data": {
      "text/plain": [
       "<matplotlib.legend.Legend at 0x7fd0a7fb9828>"
      ]
     },
     "execution_count": 29,
     "metadata": {},
     "output_type": "execute_result"
    },
    {
     "data": {
      "image/png": "[encoded data removed]",
      "text/plain": [
       "<matplotlib.figure.Figure at 0x7fd0ac76e2e8>"
      ]
     },
     "metadata": {},
     "output_type": "display_data"
    }
   ],
   "source": [
    "fig = plt.figure()\n",
    "ax = fig.add_subplot(111)\n",
    "ax.set_ylabel('Precisión')\n",
    "ax.set_xlabel('Tamaño del vector')\n",
    "ax.set_xticks(np.array([0,1,2]) + 0.3)\n",
    "ax.set_xticklabels(np.array([16,32,64]).astype('str'))\n",
    "\n",
    "ax.bar(np.arange(0,3), score_word8000_train, width=0.3, color='red', label='Entrenamiento')\n",
    "ax.bar(np.arange(0.3, 3.3), score_word8000_test, width=0.3, label='Prueba')\n",
    "box = ax.get_position()\n",
    "ax.set_position([box.x0, box.y0, box.width * 0.8, box.height])\n",
    "ax.legend(loc='center left', bbox_to_anchor=(1, 0.5))"
   ]
  },
  {
   "cell_type": "markdown",
   "metadata": {},
   "source": [
    "#### top_words=15000"
   ]
  },
  {
   "cell_type": "code",
   "execution_count": 30,
   "metadata": {
    "collapsed": true
   },
   "outputs": [],
   "source": [
    "(X_train, y_train), (X_test, y_test) = imdb.load_data(nb_words=15000, seed=15)\n",
    "X_train = sequence.pad_sequences(X_train, maxlen=500)\n",
    "X_test = sequence.pad_sequences(X_test, maxlen=500)"
   ]
  },
  {
   "cell_type": "markdown",
   "metadata": {},
   "source": [
    "d=16"
   ]
  },
  {
   "cell_type": "code",
   "execution_count": null,
   "metadata": {
    "collapsed": true
   },
   "outputs": [],
   "source": [
    "embedding_vector_length = 16\n",
    "model = Sequential()\n",
    "model.add(Embedding(15000, embedding_vector_length, input_length=500))\n",
    "model.add(LSTM(100))\n",
    "model.add(Dense(1, activation='sigmoid'))\n",
    "model.compile(loss='binary_crossentropy', optimizer='adam', metrics=['accuracy'])\n",
    "model.fit(X_train, y_train, validation_data=(X_test, y_test), nb_epoch=3, batch_size=64)\n",
    "model.save('RNN-lstm-emb16-word15000.h5')"
   ]
  },
  {
   "cell_type": "markdown",
   "metadata": {},
   "source": [
    "d=32"
   ]
  },
  {
   "cell_type": "code",
   "execution_count": null,
   "metadata": {
    "collapsed": true
   },
   "outputs": [],
   "source": [
    "embedding_vector_length = 32\n",
    "model = Sequential()\n",
    "model.add(Embedding(15000, embedding_vector_length, input_length=500))\n",
    "model.add(LSTM(100))\n",
    "model.add(Dense(1, activation='sigmoid'))\n",
    "model.compile(loss='binary_crossentropy', optimizer='adam', metrics=['accuracy'])\n",
    "model.fit(X_train, y_train, validation_data=(X_test, y_test), nb_epoch=3, batch_size=64)\n",
    "model.save('RNN-lstm-emb32-word15000.h5')"
   ]
  },
  {
   "cell_type": "markdown",
   "metadata": {},
   "source": [
    "d=64"
   ]
  },
  {
   "cell_type": "code",
   "execution_count": null,
   "metadata": {
    "collapsed": true
   },
   "outputs": [],
   "source": [
    "embedding_vector_length = 64\n",
    "model = Sequential()\n",
    "model.add(Embedding(15000, embedding_vector_length, input_length=500))\n",
    "model.add(LSTM(100))\n",
    "model.add(Dense(1, activation='sigmoid'))\n",
    "model.compile(loss='binary_crossentropy', optimizer='adam', metrics=['accuracy'])\n",
    "model.fit(X_train, y_train, validation_data=(X_test, y_test), nb_epoch=3, batch_size=64)\n",
    "model.save('RNN-lstm-emb64-word15000.h5')"
   ]
  },
  {
   "cell_type": "markdown",
   "metadata": {},
   "source": [
    "#### Resultados\n",
    "\n",
    "Precisión de Clasificación"
   ]
  },
  {
   "cell_type": "code",
   "execution_count": 31,
   "metadata": {
    "collapsed": true
   },
   "outputs": [],
   "source": [
    "score_word15000_train = np.array([])\n",
    "score_word15000_test = np.array([])\n",
    "model = load_model('RNN-lstm-emb16-word15000.h5')\n",
    "score_word15000_train = np.append(score_word15000_train, model.evaluate(X_train, y_train, verbose=0)[1])\n",
    "score_word15000_test = np.append(score_word15000_test, model.evaluate(X_test, y_test, verbose=0)[1])\n",
    "model = load_model('RNN-lstm-emb32-word15000.h5')\n",
    "score_word15000_train = np.append(score_word15000_train, model.evaluate(X_train, y_train, verbose=0)[1])\n",
    "score_word15000_test = np.append(score_word15000_test, model.evaluate(X_test, y_test, verbose=0)[1])\n",
    "model = load_model('RNN-lstm-emb64-word15000.h5')\n",
    "score_word15000_train = np.append(score_word15000_train, model.evaluate(X_train, y_train, verbose=0)[1])\n",
    "score_word15000_test = np.append(score_word15000_test, model.evaluate(X_test, y_test, verbose=0)[1])"
   ]
  },
  {
   "cell_type": "code",
   "execution_count": 32,
   "metadata": {
    "collapsed": false
   },
   "outputs": [
    {
     "data": {
      "text/plain": [
       "<matplotlib.legend.Legend at 0x7fd0ae3dc7b8>"
      ]
     },
     "execution_count": 32,
     "metadata": {},
     "output_type": "execute_result"
    },
    {
     "data": {
      "image/png": "[encoded data removed]",
      "text/plain": [
       "<matplotlib.figure.Figure at 0x7fd0ad7941d0>"
      ]
     },
     "metadata": {},
     "output_type": "display_data"
    }
   ],
   "source": [
    "fig = plt.figure()\n",
    "ax = fig.add_subplot(111)\n",
    "ax.set_ylabel('Precisión')\n",
    "ax.set_xlabel('Tamaño del vector')\n",
    "ax.set_xticks(np.array([0,1,2]) + 0.3)\n",
    "ax.set_xticklabels(np.array([16,32,64]).astype('str'))\n",
    "\n",
    "ax.bar(np.arange(0,3), score_word15000_train, width=0.3, color='red', label='Entrenamiento')\n",
    "ax.bar(np.arange(0.3, 3.3), score_word15000_test, width=0.3, label='Prueba')\n",
    "box = ax.get_position()\n",
    "ax.set_position([box.x0, box.y0, box.width * 0.8, box.height])\n",
    "ax.legend(loc='center left', bbox_to_anchor=(1, 0.5))"
   ]
  },
  {
   "cell_type": "markdown",
   "metadata": {},
   "source": [
    "#### top_words=20000"
   ]
  },
  {
   "cell_type": "code",
   "execution_count": 33,
   "metadata": {
    "collapsed": true
   },
   "outputs": [],
   "source": [
    "(X_train, y_train), (X_test, y_test) = imdb.load_data(nb_words=20000, seed=15)\n",
    "X_train = sequence.pad_sequences(X_train, maxlen=500)\n",
    "X_test = sequence.pad_sequences(X_test, maxlen=500)"
   ]
  },
  {
   "cell_type": "markdown",
   "metadata": {},
   "source": [
    "d=16"
   ]
  },
  {
   "cell_type": "code",
   "execution_count": null,
   "metadata": {
    "collapsed": true
   },
   "outputs": [],
   "source": [
    "embedding_vector_length = 16\n",
    "model = Sequential()\n",
    "model.add(Embedding(20000, embedding_vector_length, input_length=500))\n",
    "model.add(LSTM(100))\n",
    "model.add(Dense(1, activation='sigmoid'))\n",
    "model.compile(loss='binary_crossentropy', optimizer='adam', metrics=['accuracy'])\n",
    "model.fit(X_train, y_train, validation_data=(X_test, y_test), nb_epoch=3, batch_size=64)\n",
    "model.save('RNN-lstm-emb16-word20000.h5')"
   ]
  },
  {
   "cell_type": "markdown",
   "metadata": {},
   "source": [
    "d=32"
   ]
  },
  {
   "cell_type": "code",
   "execution_count": null,
   "metadata": {
    "collapsed": true
   },
   "outputs": [],
   "source": [
    "embedding_vector_length = 32\n",
    "model = Sequential()\n",
    "model.add(Embedding(20000, embedding_vector_length, input_length=500))\n",
    "model.add(LSTM(100))\n",
    "model.add(Dense(1, activation='sigmoid'))\n",
    "model.compile(loss='binary_crossentropy', optimizer='adam', metrics=['accuracy'])\n",
    "model.fit(X_train, y_train, validation_data=(X_test, y_test), nb_epoch=3, batch_size=64)\n",
    "model.save('RNN-lstm-emb32-word20000.h5')"
   ]
  },
  {
   "cell_type": "markdown",
   "metadata": {},
   "source": [
    "d=64"
   ]
  },
  {
   "cell_type": "code",
   "execution_count": null,
   "metadata": {
    "collapsed": true
   },
   "outputs": [],
   "source": [
    "embedding_vector_length = 64\n",
    "model = Sequential()\n",
    "model.add(Embedding(20000, embedding_vector_length, input_length=500))\n",
    "model.add(LSTM(100))\n",
    "model.add(Dense(1, activation='sigmoid'))\n",
    "model.compile(loss='binary_crossentropy', optimizer='adam', metrics=['accuracy'])\n",
    "model.fit(X_train, y_train, validation_data=(X_test, y_test), nb_epoch=3, batch_size=64)\n",
    "model.save('RNN-lstm-emb64-word20000.h5')"
   ]
  },
  {
   "cell_type": "markdown",
   "metadata": {},
   "source": [
    "#### Resultados\n",
    "\n",
    "Precisión de Clasificación"
   ]
  },
  {
   "cell_type": "code",
   "execution_count": 34,
   "metadata": {
    "collapsed": true
   },
   "outputs": [],
   "source": [
    "score_word20000_train = np.array([])\n",
    "score_word20000_test = np.array([])\n",
    "model = load_model('RNN-lstm-emb16-word20000.h5')\n",
    "score_word20000_train = np.append(score_word20000_train, model.evaluate(X_train, y_train, verbose=0)[1])\n",
    "score_word20000_test = np.append(score_word20000_test, model.evaluate(X_test, y_test, verbose=0)[1])\n",
    "model = load_model('RNN-lstm-emb32-word20000.h5')\n",
    "score_word20000_train = np.append(score_word20000_train, model.evaluate(X_train, y_train, verbose=0)[1])\n",
    "score_word20000_test = np.append(score_word20000_test, model.evaluate(X_test, y_test, verbose=0)[1])\n",
    "model = load_model('RNN-lstm-emb64-word20000.h5')\n",
    "score_word20000_train = np.append(score_word20000_train, model.evaluate(X_train, y_train, verbose=0)[1])\n",
    "score_word20000_test = np.append(score_word20000_test, model.evaluate(X_test, y_test, verbose=0)[1])"
   ]
  },
  {
   "cell_type": "code",
   "execution_count": 35,
   "metadata": {
    "collapsed": false
   },
   "outputs": [
    {
     "data": {
      "text/plain": [
       "<matplotlib.legend.Legend at 0x7fd0ad7a3ac8>"
      ]
     },
     "execution_count": 35,
     "metadata": {},
     "output_type": "execute_result"
    },
    {
     "data": {
      "image/png": "[encoded data removed]",
      "text/plain": [
       "<matplotlib.figure.Figure at 0x7fd0a8e66470>"
      ]
     },
     "metadata": {},
     "output_type": "display_data"
    }
   ],
   "source": [
    "fig = plt.figure()\n",
    "ax = fig.add_subplot(111)\n",
    "ax.set_ylabel('Precisión')\n",
    "ax.set_xlabel('Tamaño del vector')\n",
    "ax.set_xticks(np.array([0,1,2]) + 0.3)\n",
    "ax.set_xticklabels(np.array([16,32,64]).astype('str'))\n",
    "\n",
    "ax.bar(np.arange(0,3), score_word20000_train, width=0.3, color='red', label='Entrenamiento')\n",
    "ax.bar(np.arange(0.3, 3.3), score_word20000_test, width=0.3, label='Prueba')\n",
    "box = ax.get_position()\n",
    "ax.set_position([box.x0, box.y0, box.width * 0.8, box.height])\n",
    "ax.legend(loc='center left', bbox_to_anchor=(1, 0.5))"
   ]
  },
  {
   "cell_type": "markdown",
   "metadata": {},
   "source": [
    "#### Comparación"
   ]
  },
  {
   "cell_type": "code",
   "execution_count": 47,
   "metadata": {
    "collapsed": false
   },
   "outputs": [
    {
     "data": {
      "text/plain": [
       "<matplotlib.legend.Legend at 0x7fd0a69a92e8>"
      ]
     },
     "execution_count": 47,
     "metadata": {},
     "output_type": "execute_result"
    },
    {
     "data": {
      "image/png": "[encoded data removed]",
      "text/plain": [
       "<matplotlib.figure.Figure at 0x7fd0a97987f0>"
      ]
     },
     "metadata": {},
     "output_type": "display_data"
    }
   ],
   "source": [
    "fig = plt.figure()\n",
    "ax = fig.add_subplot(111)\n",
    "ax.set_ylabel('Precisión')\n",
    "ax.set_xlabel('Tamaño del vector')\n",
    "ax.set_xticks(np.array([0,1,2]) + 0.4)\n",
    "ax.set_xticklabels(np.array([16,32,64]).astype('str'))\n",
    "\n",
    "ax.bar(np.arange(0,3), score_word3000_test, width=0.15, color='red', label='3000 Top Words')\n",
    "ax.bar(np.arange(0.15, 3.15), [score_emb16[1], score_emb32[1], score_emb64[1]], width=0.15, label='5000 Top Words')\n",
    "ax.bar(np.arange(0.3, 3.3), score_word8000_test, width=0.15, color='green', label='8000 Top Words')\n",
    "ax.bar(np.arange(0.45, 3.45), score_word15000_test, width=0.15, color='orange', label='15000 Top Words')\n",
    "ax.bar(np.arange(0.6, 3.6), score_word20000_test, width=0.15, color='pink', label='20000 Top Words')\n",
    "box = ax.get_position()\n",
    "ax.set_position([box.x0, box.y0, box.width * 0.8, box.height])\n",
    "ax.legend(loc='center left', bbox_to_anchor=(1, 0.5))"
   ]
  },
  {
   "cell_type": "markdown",
   "metadata": {},
   "source": [
    "Se puede observar que para un tamaño de vector 16, se obtienen mejores resultados con un menor número de palabras top. Al aumentar el tamaño, la clasificación es mejor a medida que se aumenta el número de palabras top. No parece haber diferencias entre los vectores de 32 y 64 dimensiones. Podemos concluir que al tener un menor número de palabras en el diccionario, es posible utilizar vectores de menor dimensión para hacer un mapeo óptimo entre los espacios. En cambio, con un diccionario grande, es necesario usar vectores de mayor tamaño.\n",
    "\n",
    "Los mejores resultados se obtuvieron con top_words=3000 + d=16 y con top_words=15000 + d=32."
   ]
  },
  {
   "cell_type": "markdown",
   "metadata": {},
   "source": [
    "#### g) Dropout\n",
    "\n",
    "Para mitigar el problema de overfitting se experimentará con Dropout, que es un método de regularización creado con este objetivo. La noción básica de su funcionamiento es que se desactivan aleatoriamente un número de unidades (ocultas o visibles) y sus conexiones durante el entrenamiento, con el objetivo de evitar que éstas se co-adapten mucho.\n",
    "\n",
    "El modelo propuesto en el enunciado se entrena a continuación, usando word embedding de tamaño 32 y 5000 palabras top."
   ]
  },
  {
   "cell_type": "code",
   "execution_count": 48,
   "metadata": {
    "collapsed": false
   },
   "outputs": [
    {
     "name": "stdout",
     "output_type": "stream",
     "text": [
      "____________________________________________________________________________________________________\n",
      "Layer (type)                     Output Shape          Param #     Connected to                     \n",
      "====================================================================================================\n",
      "embedding_5 (Embedding)          (None, 500, 32)       160000      embedding_input_22[0][0]         \n",
      "____________________________________________________________________________________________________\n",
      "dropout_1 (Dropout)              (None, 500, 32)       0           embedding_5[0][0]                \n",
      "____________________________________________________________________________________________________\n",
      "lstm_5 (LSTM)                    (None, 100)           53200       dropout_1[0][0]                  \n",
      "____________________________________________________________________________________________________\n",
      "dropout_2 (Dropout)              (None, 100)           0           lstm_5[0][0]                     \n",
      "____________________________________________________________________________________________________\n",
      "dense_5 (Dense)                  (None, 1)             101         dropout_2[0][0]                  \n",
      "====================================================================================================\n",
      "Total params: 213301\n",
      "____________________________________________________________________________________________________\n"
     ]
    },
    {
     "data": {
      "image/svg+xml": [
       "<svg height=\"410pt\" viewBox=\"0.00 0.00 208.00 410.00\" width=\"208pt\" xmlns=\"http://www.w3.org/2000/svg\" xmlns:xlink=\"http://www.w3.org/1999/xlink\">\n",
       "<g class=\"graph\" id=\"graph0\" transform=\"scale(1 1) rotate(0) translate(4 406)\">\n",
       "<title>G</title>\n",
       "<polygon fill=\"white\" points=\"-4,4 -4,-406 204,-406 204,4 -4,4\" stroke=\"none\"/>\n",
       "<!-- 140534135850264 -->\n",
       "<g class=\"node\" id=\"node1\"><title>140534135850264</title>\n",
       "<polygon fill=\"none\" points=\"0,-365.5 0,-401.5 200,-401.5 200,-365.5 0,-365.5\" stroke=\"black\"/>\n",
       "<text font-family=\"Times,serif\" font-size=\"14.00\" text-anchor=\"middle\" x=\"100\" y=\"-379.8\">embedding_input_22: InputLayer</text>\n",
       "</g>\n",
       "<!-- 140534244656744 -->\n",
       "<g class=\"node\" id=\"node2\"><title>140534244656744</title>\n",
       "<polygon fill=\"none\" points=\"19.5,-292.5 19.5,-328.5 180.5,-328.5 180.5,-292.5 19.5,-292.5\" stroke=\"black\"/>\n",
       "<text font-family=\"Times,serif\" font-size=\"14.00\" text-anchor=\"middle\" x=\"100\" y=\"-306.8\">embedding_5: Embedding</text>\n",
       "</g>\n",
       "<!-- 140534135850264&#45;&gt;140534244656744 -->\n",
       "<g class=\"edge\" id=\"edge1\"><title>140534135850264-&gt;140534244656744</title>\n",
       "<path d=\"M100,-365.313C100,-357.289 100,-347.547 100,-338.569\" fill=\"none\" stroke=\"black\"/>\n",
       "<polygon fill=\"black\" points=\"103.5,-338.529 100,-328.529 96.5001,-338.529 103.5,-338.529\" stroke=\"black\"/>\n",
       "</g>\n",
       "<!-- 140534135850768 -->\n",
       "<g class=\"node\" id=\"node3\"><title>140534135850768</title>\n",
       "<polygon fill=\"none\" points=\"37.5,-219.5 37.5,-255.5 162.5,-255.5 162.5,-219.5 37.5,-219.5\" stroke=\"black\"/>\n",
       "<text font-family=\"Times,serif\" font-size=\"14.00\" text-anchor=\"middle\" x=\"100\" y=\"-233.8\">dropout_1: Dropout</text>\n",
       "</g>\n",
       "<!-- 140534244656744&#45;&gt;140534135850768 -->\n",
       "<g class=\"edge\" id=\"edge2\"><title>140534244656744-&gt;140534135850768</title>\n",
       "<path d=\"M100,-292.313C100,-284.289 100,-274.547 100,-265.569\" fill=\"none\" stroke=\"black\"/>\n",
       "<polygon fill=\"black\" points=\"103.5,-265.529 100,-255.529 96.5001,-265.529 103.5,-265.529\" stroke=\"black\"/>\n",
       "</g>\n",
       "<!-- 140534222717336 -->\n",
       "<g class=\"node\" id=\"node4\"><title>140534222717336</title>\n",
       "<polygon fill=\"none\" points=\"51,-146.5 51,-182.5 149,-182.5 149,-146.5 51,-146.5\" stroke=\"black\"/>\n",
       "<text font-family=\"Times,serif\" font-size=\"14.00\" text-anchor=\"middle\" x=\"100\" y=\"-160.8\">lstm_5: LSTM</text>\n",
       "</g>\n",
       "<!-- 140534135850768&#45;&gt;140534222717336 -->\n",
       "<g class=\"edge\" id=\"edge3\"><title>140534135850768-&gt;140534222717336</title>\n",
       "<path d=\"M100,-219.313C100,-211.289 100,-201.547 100,-192.569\" fill=\"none\" stroke=\"black\"/>\n",
       "<polygon fill=\"black\" points=\"103.5,-192.529 100,-182.529 96.5001,-192.529 103.5,-192.529\" stroke=\"black\"/>\n",
       "</g>\n",
       "<!-- 140533432273496 -->\n",
       "<g class=\"node\" id=\"node5\"><title>140533432273496</title>\n",
       "<polygon fill=\"none\" points=\"37.5,-73.5 37.5,-109.5 162.5,-109.5 162.5,-73.5 37.5,-73.5\" stroke=\"black\"/>\n",
       "<text font-family=\"Times,serif\" font-size=\"14.00\" text-anchor=\"middle\" x=\"100\" y=\"-87.8\">dropout_2: Dropout</text>\n",
       "</g>\n",
       "<!-- 140534222717336&#45;&gt;140533432273496 -->\n",
       "<g class=\"edge\" id=\"edge4\"><title>140534222717336-&gt;140533432273496</title>\n",
       "<path d=\"M100,-146.313C100,-138.289 100,-128.547 100,-119.569\" fill=\"none\" stroke=\"black\"/>\n",
       "<polygon fill=\"black\" points=\"103.5,-119.529 100,-109.529 96.5001,-119.529 103.5,-119.529\" stroke=\"black\"/>\n",
       "</g>\n",
       "<!-- 140534125965440 -->\n",
       "<g class=\"node\" id=\"node6\"><title>140534125965440</title>\n",
       "<polygon fill=\"none\" points=\"49,-0.5 49,-36.5 151,-36.5 151,-0.5 49,-0.5\" stroke=\"black\"/>\n",
       "<text font-family=\"Times,serif\" font-size=\"14.00\" text-anchor=\"middle\" x=\"100\" y=\"-14.8\">dense_5: Dense</text>\n",
       "</g>\n",
       "<!-- 140533432273496&#45;&gt;140534125965440 -->\n",
       "<g class=\"edge\" id=\"edge5\"><title>140533432273496-&gt;140534125965440</title>\n",
       "<path d=\"M100,-73.3129C100,-65.2895 100,-55.5475 100,-46.5691\" fill=\"none\" stroke=\"black\"/>\n",
       "<polygon fill=\"black\" points=\"103.5,-46.5288 100,-36.5288 96.5001,-46.5289 103.5,-46.5288\" stroke=\"black\"/>\n",
       "</g>\n",
       "</g>\n",
       "</svg>"
      ],
      "text/plain": [
       "<IPython.core.display.SVG object>"
      ]
     },
     "execution_count": 48,
     "metadata": {},
     "output_type": "execute_result"
    }
   ],
   "source": [
    "(X_train, y_train), (X_test, y_test) = imdb.load_data(nb_words=5000, seed=15)\n",
    "X_train = sequence.pad_sequences(X_train, maxlen=500)\n",
    "X_test = sequence.pad_sequences(X_test, maxlen=500)\n",
    "\n",
    "embedding_vector_length = 32\n",
    "model = Sequential()\n",
    "model.add(Embedding(5000, embedding_vector_length, input_length=500))\n",
    "model.add(Dropout(0.2))\n",
    "model.add(LSTM(100))\n",
    "model.add(Dropout(0.2))\n",
    "model.add(Dense(1, activation='sigmoid'))\n",
    "model.compile(loss='binary_crossentropy', optimizer='adam', metrics=['accuracy'])\n",
    "model.summary()\n",
    "\n",
    "from IPython.display import SVG\n",
    "from keras.utils.visualize_util import model_to_dot\n",
    "\n",
    "SVG(model_to_dot(model).create(prog='dot', format='svg'))"
   ]
  },
  {
   "cell_type": "code",
   "execution_count": null,
   "metadata": {
    "collapsed": true
   },
   "outputs": [],
   "source": [
    "model.fit(X_train, y_train, nb_epoch=3, batch_size=64)\n",
    "model.save('RNN-lstm-dropout-1.h5')"
   ]
  },
  {
   "cell_type": "markdown",
   "metadata": {},
   "source": [
    "<code>Train on 25000 samples, validate on 25000 samples\n",
    "Epoch 1/3\n",
    "25000/25000 [=======================] - 541s - loss: 0.6309 - acc: 0.6207 - val_loss: 0.3959 - val_acc: 0.8283\n",
    "Epoch 2/3\n",
    "25000/25000 [=======================] - 535s - loss: 0.3826 - acc: 0.8356 - val_loss: 0.3066 - val_acc: 0.8743\n",
    "Epoch 3/3\n",
    "25000/25000 [=======================] - 531s - loss: 0.2803 - acc: 0.8896 - val_loss: 0.3388 - val_acc: 0.8693\n",
    "</code>"
   ]
  },
  {
   "cell_type": "markdown",
   "metadata": {},
   "source": [
    "#### Resultados\n",
    "\n",
    "Precisión de Clasificación"
   ]
  },
  {
   "cell_type": "code",
   "execution_count": 51,
   "metadata": {
    "collapsed": false
   },
   "outputs": [
    {
     "name": "stdout",
     "output_type": "stream",
     "text": [
      "Precisión de clasificación dropout=0.2:  0.86932\n"
     ]
    }
   ],
   "source": [
    "model = load_model('RNN-lstm-dropout-1.h5')\n",
    "score_dropout_1 = model.evaluate(X_test, y_test, verbose=0)\n",
    "print('Precisión de clasificación dropout=0.2: ', score_dropout_1[1])"
   ]
  },
  {
   "cell_type": "code",
   "execution_count": 59,
   "metadata": {
    "collapsed": false
   },
   "outputs": [
    {
     "data": {
      "text/plain": [
       "<matplotlib.legend.Legend at 0x7fd0ac13e748>"
      ]
     },
     "execution_count": 59,
     "metadata": {},
     "output_type": "execute_result"
    },
    {
     "data": {
      "image/png": "[encoded data removed]",
      "text/plain": [
       "<matplotlib.figure.Figure at 0x7fd0a7119828>"
      ]
     },
     "metadata": {},
     "output_type": "display_data"
    }
   ],
   "source": [
    "epochs = np.array([1,2,3])\n",
    "fig = plt.figure()\n",
    "ax = fig.add_subplot(111)\n",
    "ax.set_ylabel('Precisión')\n",
    "ax.set_xlabel('Epoch')\n",
    "ax.set_xticks(epochs)\n",
    "ax.set_xticklabels(epochs.astype('str'))\n",
    "\n",
    "ax.plot(epochs, [0.6207, 0.8356, 0.8896], color='red', label='Entrenamiento')\n",
    "ax.plot(epochs, [0.8283, 0.8743, 0.8693], label='Prueba')\n",
    "box = ax.get_position()\n",
    "ax.set_position([box.x0, box.y0, box.width * 0.8, box.height])\n",
    "ax.legend(loc='center left', bbox_to_anchor=(1, 0.5))"
   ]
  },
  {
   "cell_type": "markdown",
   "metadata": {},
   "source": [
    "Se puede observar un comportamiento convergente para ambos conjuntos que es lo que se busca, con una disminución en la precisión final. Probablemente si se continua entrenando, se lograrán mejores resultados."
   ]
  },
  {
   "cell_type": "markdown",
   "metadata": {},
   "source": [
    "#### Dropout = 0.5"
   ]
  },
  {
   "cell_type": "code",
   "execution_count": 49,
   "metadata": {
    "collapsed": false
   },
   "outputs": [
    {
     "name": "stdout",
     "output_type": "stream",
     "text": [
      "____________________________________________________________________________________________________\n",
      "Layer (type)                     Output Shape          Param #     Connected to                     \n",
      "====================================================================================================\n",
      "embedding_6 (Embedding)          (None, 500, 32)       160000      embedding_input_23[0][0]         \n",
      "____________________________________________________________________________________________________\n",
      "dropout_3 (Dropout)              (None, 500, 32)       0           embedding_6[0][0]                \n",
      "____________________________________________________________________________________________________\n",
      "lstm_6 (LSTM)                    (None, 100)           53200       dropout_3[0][0]                  \n",
      "____________________________________________________________________________________________________\n",
      "dropout_4 (Dropout)              (None, 100)           0           lstm_6[0][0]                     \n",
      "____________________________________________________________________________________________________\n",
      "dense_6 (Dense)                  (None, 1)             101         dropout_4[0][0]                  \n",
      "====================================================================================================\n",
      "Total params: 213301\n",
      "____________________________________________________________________________________________________\n"
     ]
    }
   ],
   "source": [
    "model = Sequential()\n",
    "model.add(Embedding(5000, embedding_vector_length, input_length=500))\n",
    "model.add(Dropout(0.2))\n",
    "model.add(LSTM(100))\n",
    "model.add(Dropout(0.5))\n",
    "model.add(Dense(1, activation='sigmoid'))\n",
    "model.compile(loss='binary_crossentropy', optimizer='adam', metrics=['accuracy'])\n",
    "model.summary()"
   ]
  },
  {
   "cell_type": "code",
   "execution_count": null,
   "metadata": {
    "collapsed": true
   },
   "outputs": [],
   "source": [
    "model.fit(X_train, y_train, nb_epoch=3, batch_size=64)\n",
    "model.save('RNN-lstm-dropout-2.h5')"
   ]
  },
  {
   "cell_type": "markdown",
   "metadata": {},
   "source": [
    "<code>Train on 25000 samples, validate on 25000 samples\n",
    "\n",
    "Epoch 1/3\n",
    "25000/25000 [=======================] - 513s - loss: 0.5211 - acc: 0.7374 - val_loss: 0.3254 - val_acc: 0.8652\n",
    "Epoch 2/3\n",
    "25000/25000 [=======================] - 517s - loss: 0.3317 - acc: 0.8655 - val_loss: 0.3454 - val_acc: 0.8587\n",
    "Epoch 3/3\n",
    "25000/25000 [=======================] - 518s - loss: 0.2591 - acc: 0.9004 - val_loss: 0.3122 - val_acc: 0.8707</code>\n",
    "\n"
   ]
  },
  {
   "cell_type": "markdown",
   "metadata": {},
   "source": [
    "#### Resultados\n",
    "\n",
    "Precisión de Clasificación"
   ]
  },
  {
   "cell_type": "code",
   "execution_count": 52,
   "metadata": {
    "collapsed": false
   },
   "outputs": [
    {
     "name": "stdout",
     "output_type": "stream",
     "text": [
      "Precisión de clasificación dropout=0.5:  0.87068\n"
     ]
    }
   ],
   "source": [
    "model = load_model('RNN-lstm-dropout-2.h5')\n",
    "score_dropout_2 = model.evaluate(X_test, y_test, verbose=0)\n",
    "print('Precisión de clasificación dropout=0.5: ', score_dropout_2[1])"
   ]
  },
  {
   "cell_type": "code",
   "execution_count": 60,
   "metadata": {
    "collapsed": false
   },
   "outputs": [
    {
     "data": {
      "text/plain": [
       "<matplotlib.legend.Legend at 0x7fd0a848b898>"
      ]
     },
     "execution_count": 60,
     "metadata": {},
     "output_type": "execute_result"
    },
    {
     "data": {
      "image/png": "[encoded data removed]",
      "text/plain": [
       "<matplotlib.figure.Figure at 0x7fd07d1a5198>"
      ]
     },
     "metadata": {},
     "output_type": "display_data"
    }
   ],
   "source": [
    "epochs = np.array([1,2,3])\n",
    "fig = plt.figure()\n",
    "ax = fig.add_subplot(111)\n",
    "ax.set_ylabel('Precisión')\n",
    "ax.set_xlabel('Epoch')\n",
    "ax.set_xticks(epochs)\n",
    "ax.set_xticklabels(epochs.astype('str'))\n",
    "\n",
    "ax.plot(epochs, [0.7374, 0.8655, 0.9004], color='red', label='Entrenamiento')\n",
    "ax.plot(epochs, [0.8652, 0.8587, 0.8707], label='Prueba')\n",
    "box = ax.get_position()\n",
    "ax.set_position([box.x0, box.y0, box.width * 0.8, box.height])\n",
    "ax.legend(loc='center left', bbox_to_anchor=(1, 0.5))"
   ]
  },
  {
   "cell_type": "markdown",
   "metadata": {},
   "source": [
    "Similar al caso anterior, pero para el conjunto de prueba, no se observa un comportamiento convergente. Si bien el dropout con p=0.5 es el recomendado por los creadores del método para la mayoría de los casos, no parece ser el ideal para LSTM."
   ]
  },
  {
   "cell_type": "markdown",
   "metadata": {},
   "source": [
    "#### Dropout alternativo\n",
    "\n",
    "Keras permite realizar el dropout directamente en las compuertas de entradas y conexiones recurrentes de cada unidad en la LSTM, mediante los parámetros dropout_W y dropout_U. Se fijarán en 0.2 debido a los resultados anteriores."
   ]
  },
  {
   "cell_type": "code",
   "execution_count": 50,
   "metadata": {
    "collapsed": false
   },
   "outputs": [
    {
     "name": "stdout",
     "output_type": "stream",
     "text": [
      "____________________________________________________________________________________________________\n",
      "Layer (type)                     Output Shape          Param #     Connected to                     \n",
      "====================================================================================================\n",
      "embedding_7 (Embedding)          (None, 500, 32)       160000      embedding_input_24[0][0]         \n",
      "____________________________________________________________________________________________________\n",
      "lstm_7 (LSTM)                    (None, 100)           53200       embedding_7[0][0]                \n",
      "____________________________________________________________________________________________________\n",
      "dense_7 (Dense)                  (None, 1)             101         lstm_7[0][0]                     \n",
      "====================================================================================================\n",
      "Total params: 213301\n",
      "____________________________________________________________________________________________________\n"
     ]
    }
   ],
   "source": [
    "model = Sequential()\n",
    "model.add(Embedding(5000, embedding_vector_length, input_length=500, dropout=0.2))\n",
    "model.add(LSTM(100, dropout_W=0.2, dropout_U=0.2))\n",
    "model.add(Dense(1, activation='sigmoid'))\n",
    "model.compile(loss='binary_crossentropy', optimizer='adam', metrics=['accuracy'])\n",
    "model.summary()"
   ]
  },
  {
   "cell_type": "code",
   "execution_count": null,
   "metadata": {
    "collapsed": true
   },
   "outputs": [],
   "source": [
    "model.fit(X_train, y_train, nb_epoch=3, batch_size=64)\n",
    "model.save('RNN-lstm-dropout-3.h5')"
   ]
  },
  {
   "cell_type": "markdown",
   "metadata": {},
   "source": [
    "<code>Train on 25000 samples, validate on 25000 samples\n",
    "Epoch 1/3\n",
    "25000/25000 [========================] - 537s - loss: 0.6491 - acc: 0.6057 - val_loss: 0.4991 - val_acc: 0.7664\n",
    "Epoch 2/3\n",
    "25000/25000 [========================] - 538s - loss: 0.4820 - acc: 0.7748 - val_loss: 0.4272 - val_acc: 0.8090\n",
    "Epoch 3/3\n",
    "25000/25000 [========================] - 543s - loss: 0.4398 - acc: 0.7998 - val_loss: 0.3542 - val_acc: 0.8513\n",
    "</code>"
   ]
  },
  {
   "cell_type": "markdown",
   "metadata": {},
   "source": [
    "#### Resultados\n",
    "\n",
    "Precisión de Clasificación"
   ]
  },
  {
   "cell_type": "code",
   "execution_count": 53,
   "metadata": {
    "collapsed": false
   },
   "outputs": [
    {
     "name": "stdout",
     "output_type": "stream",
     "text": [
      "Precisión de clasificación dropout_W=0.2 dropout_U=0.2:  0.85128\n"
     ]
    }
   ],
   "source": [
    "model = load_model('RNN-lstm-dropout-3.h5')\n",
    "score_dropout_3 = model.evaluate(X_test, y_test, verbose=0)\n",
    "print('Precisión de clasificación dropout_W=0.2 dropout_U=0.2: ', score_dropout_3[1])"
   ]
  },
  {
   "cell_type": "code",
   "execution_count": 61,
   "metadata": {
    "collapsed": false
   },
   "outputs": [
    {
     "data": {
      "text/plain": [
       "<matplotlib.legend.Legend at 0x7fd0a89fdfd0>"
      ]
     },
     "execution_count": 61,
     "metadata": {},
     "output_type": "execute_result"
    },
    {
     "data": {
      "image/png": "[encoded data removed]",
      "text/plain": [
       "<matplotlib.figure.Figure at 0x7fd0ae22f8d0>"
      ]
     },
     "metadata": {},
     "output_type": "display_data"
    }
   ],
   "source": [
    "epochs = np.array([1,2,3])\n",
    "fig = plt.figure()\n",
    "ax = fig.add_subplot(111)\n",
    "ax.set_ylabel('Precisión')\n",
    "ax.set_xlabel('Epoch')\n",
    "ax.set_xticks(epochs)\n",
    "ax.set_xticklabels(epochs.astype('str'))\n",
    "\n",
    "ax.plot(epochs, [0.6257, 0.7748, 0.7998], color='red', label='Entrenamiento')\n",
    "ax.plot(epochs, [0.7664, 0.8090, 0.8513], label='Prueba')\n",
    "box = ax.get_position()\n",
    "ax.set_position([box.x0, box.y0, box.width * 0.8, box.height])\n",
    "ax.legend(loc='center left', bbox_to_anchor=(1, 0.5))"
   ]
  },
  {
   "cell_type": "markdown",
   "metadata": {},
   "source": [
    "La convergencia es más pronunciada para este caso, y la precisión final aún mas baja. También es posibe obtener mejores resultados si se sigue entrenando."
   ]
  },
  {
   "cell_type": "markdown",
   "metadata": {
    "collapsed": true
   },
   "source": [
    "#### Extra\n",
    "\n",
    "Si se sigue entrenando el modelo con dropout p=0.2 (retención), se obtiene el siguiente resultado."
   ]
  },
  {
   "cell_type": "code",
   "execution_count": null,
   "metadata": {
    "collapsed": true
   },
   "outputs": [],
   "source": [
    "model = load_model('RNN-lstm-dropout-1.h5')\n",
    "model.fit(X_train, y_train, validation_data=(X_test, y_test), nb_epoch=3, batch_size=64)"
   ]
  },
  {
   "cell_type": "markdown",
   "metadata": {},
   "source": [
    "#### Resutados\n",
    "\n",
    "Precisión de Clasificación"
   ]
  },
  {
   "cell_type": "code",
   "execution_count": 8,
   "metadata": {
    "collapsed": false
   },
   "outputs": [
    {
     "name": "stdout",
     "output_type": "stream",
     "text": [
      "Precisión de clasificación dropout=0.2 6 epochs:  0.87744\n"
     ]
    }
   ],
   "source": [
    "model = load_model('RNN-lstm-dropout-4.h5')\n",
    "score_dropout_4 = model.evaluate(X_test, y_test, verbose=0)\n",
    "print('Precisión de clasificación dropout=0.2 6 epochs: ', score_dropout_4[1])"
   ]
  },
  {
   "cell_type": "markdown",
   "metadata": {},
   "source": [
    "Si bien se logró mejorar el resultado, no se ha podido superar el 90% de precisión con ninguno de los modelos. Además, no se logra aumentar significativamente la cantidad de epochs sin caer en overfitting. En la siguiente sección se propondran distintos modelos para comparar y posiblemente mejorar los resultados."
   ]
  },
  {
   "cell_type": "markdown",
   "metadata": {},
   "source": [
    "#### h) Modelos propuestos"
   ]
  },
  {
   "cell_type": "markdown",
   "metadata": {},
   "source": [
    "MLP\n",
    "\n",
    "A modo de comparación, se entrenará el Multilayer Perceptron que se define a continuación."
   ]
  },
  {
   "cell_type": "code",
   "execution_count": 12,
   "metadata": {
    "collapsed": false
   },
   "outputs": [
    {
     "name": "stdout",
     "output_type": "stream",
     "text": [
      "____________________________________________________________________________________________________\n",
      "Layer (type)                     Output Shape          Param #     Connected to                     \n",
      "====================================================================================================\n",
      "embedding_4 (Embedding)          (None, 500, 32)       160000      embedding_input_7[0][0]          \n",
      "____________________________________________________________________________________________________\n",
      "flatten_3 (Flatten)              (None, 16000)         0           embedding_4[0][0]                \n",
      "____________________________________________________________________________________________________\n",
      "dense_5 (Dense)                  (None, 250)           4000250     flatten_3[0][0]                  \n",
      "____________________________________________________________________________________________________\n",
      "dense_6 (Dense)                  (None, 1)             251         dense_5[0][0]                    \n",
      "====================================================================================================\n",
      "Total params: 4160501\n",
      "____________________________________________________________________________________________________\n"
     ]
    },
    {
     "data": {
      "image/svg+xml": [
       "<svg height=\"337pt\" viewBox=\"0.00 0.00 201.00 337.00\" width=\"201pt\" xmlns=\"http://www.w3.org/2000/svg\" xmlns:xlink=\"http://www.w3.org/1999/xlink\">\n",
       "<g class=\"graph\" id=\"graph0\" transform=\"scale(1 1) rotate(0) translate(4 333)\">\n",
       "<title>G</title>\n",
       "<polygon fill=\"white\" points=\"-4,4 -4,-333 197,-333 197,4 -4,4\" stroke=\"none\"/>\n",
       "<!-- 139953791335224 -->\n",
       "<g class=\"node\" id=\"node1\"><title>139953791335224</title>\n",
       "<polygon fill=\"none\" points=\"0,-292.5 0,-328.5 193,-328.5 193,-292.5 0,-292.5\" stroke=\"black\"/>\n",
       "<text font-family=\"Times,serif\" font-size=\"14.00\" text-anchor=\"middle\" x=\"96.5\" y=\"-306.8\">embedding_input_7: InputLayer</text>\n",
       "</g>\n",
       "<!-- 139953791335112 -->\n",
       "<g class=\"node\" id=\"node2\"><title>139953791335112</title>\n",
       "<polygon fill=\"none\" points=\"16,-219.5 16,-255.5 177,-255.5 177,-219.5 16,-219.5\" stroke=\"black\"/>\n",
       "<text font-family=\"Times,serif\" font-size=\"14.00\" text-anchor=\"middle\" x=\"96.5\" y=\"-233.8\">embedding_4: Embedding</text>\n",
       "</g>\n",
       "<!-- 139953791335224&#45;&gt;139953791335112 -->\n",
       "<g class=\"edge\" id=\"edge1\"><title>139953791335224-&gt;139953791335112</title>\n",
       "<path d=\"M96.5,-292.313C96.5,-284.289 96.5,-274.547 96.5,-265.569\" fill=\"none\" stroke=\"black\"/>\n",
       "<polygon fill=\"black\" points=\"100,-265.529 96.5,-255.529 93.0001,-265.529 100,-265.529\" stroke=\"black\"/>\n",
       "</g>\n",
       "<!-- 139953791335168 -->\n",
       "<g class=\"node\" id=\"node3\"><title>139953791335168</title>\n",
       "<polygon fill=\"none\" points=\"41.5,-146.5 41.5,-182.5 151.5,-182.5 151.5,-146.5 41.5,-146.5\" stroke=\"black\"/>\n",
       "<text font-family=\"Times,serif\" font-size=\"14.00\" text-anchor=\"middle\" x=\"96.5\" y=\"-160.8\">flatten_3: Flatten</text>\n",
       "</g>\n",
       "<!-- 139953791335112&#45;&gt;139953791335168 -->\n",
       "<g class=\"edge\" id=\"edge2\"><title>139953791335112-&gt;139953791335168</title>\n",
       "<path d=\"M96.5,-219.313C96.5,-211.289 96.5,-201.547 96.5,-192.569\" fill=\"none\" stroke=\"black\"/>\n",
       "<polygon fill=\"black\" points=\"100,-192.529 96.5,-182.529 93.0001,-192.529 100,-192.529\" stroke=\"black\"/>\n",
       "</g>\n",
       "<!-- 139953791368216 -->\n",
       "<g class=\"node\" id=\"node4\"><title>139953791368216</title>\n",
       "<polygon fill=\"none\" points=\"45.5,-73.5 45.5,-109.5 147.5,-109.5 147.5,-73.5 45.5,-73.5\" stroke=\"black\"/>\n",
       "<text font-family=\"Times,serif\" font-size=\"14.00\" text-anchor=\"middle\" x=\"96.5\" y=\"-87.8\">dense_5: Dense</text>\n",
       "</g>\n",
       "<!-- 139953791335168&#45;&gt;139953791368216 -->\n",
       "<g class=\"edge\" id=\"edge3\"><title>139953791335168-&gt;139953791368216</title>\n",
       "<path d=\"M96.5,-146.313C96.5,-138.289 96.5,-128.547 96.5,-119.569\" fill=\"none\" stroke=\"black\"/>\n",
       "<polygon fill=\"black\" points=\"100,-119.529 96.5,-109.529 93.0001,-119.529 100,-119.529\" stroke=\"black\"/>\n",
       "</g>\n",
       "<!-- 139953791424832 -->\n",
       "<g class=\"node\" id=\"node5\"><title>139953791424832</title>\n",
       "<polygon fill=\"none\" points=\"45.5,-0.5 45.5,-36.5 147.5,-36.5 147.5,-0.5 45.5,-0.5\" stroke=\"black\"/>\n",
       "<text font-family=\"Times,serif\" font-size=\"14.00\" text-anchor=\"middle\" x=\"96.5\" y=\"-14.8\">dense_6: Dense</text>\n",
       "</g>\n",
       "<!-- 139953791368216&#45;&gt;139953791424832 -->\n",
       "<g class=\"edge\" id=\"edge4\"><title>139953791368216-&gt;139953791424832</title>\n",
       "<path d=\"M96.5,-73.3129C96.5,-65.2895 96.5,-55.5475 96.5,-46.5691\" fill=\"none\" stroke=\"black\"/>\n",
       "<polygon fill=\"black\" points=\"100,-46.5288 96.5,-36.5288 93.0001,-46.5289 100,-46.5288\" stroke=\"black\"/>\n",
       "</g>\n",
       "</g>\n",
       "</svg>"
      ],
      "text/plain": [
       "<IPython.core.display.SVG object>"
      ]
     },
     "execution_count": 12,
     "metadata": {},
     "output_type": "execute_result"
    }
   ],
   "source": [
    "embedding_vector_length = 32\n",
    "model = Sequential()\n",
    "model.add(Embedding(5000, embedding_vector_length, input_length=500))\n",
    "model.add(Flatten())\n",
    "model.add(Dense(250, activation='relu'))\n",
    "model.add(Dense(1, activation='sigmoid'))\n",
    "model.compile(loss='binary_crossentropy', optimizer='adam', metrics=['accuracy'])\n",
    "model.summary()\n",
    "\n",
    "from IPython.display import SVG\n",
    "from keras.utils.visualize_util import model_to_dot\n",
    "\n",
    "SVG(model_to_dot(model).create(prog='dot', format='svg'))"
   ]
  },
  {
   "cell_type": "markdown",
   "metadata": {},
   "source": [
    "#### Resultados\n",
    "\n",
    "Precisión de Clasificación"
   ]
  },
  {
   "cell_type": "code",
   "execution_count": 9,
   "metadata": {
    "collapsed": false
   },
   "outputs": [
    {
     "name": "stdout",
     "output_type": "stream",
     "text": [
      "Precisión de clasificación MLP:  0.87528\n"
     ]
    }
   ],
   "source": [
    "model = load_model('RNN-dnn.h5')\n",
    "score_mlp = model.evaluate(X_test, y_test, verbose=0)\n",
    "print('Precisión de clasificación MLP: ', score_mlp[1])"
   ]
  },
  {
   "cell_type": "markdown",
   "metadata": {},
   "source": [
    "Es posible lograr un resultado similar a los modelos vistos con un simple MLP, que tiene un tiempo de entrenamiento considerablemente menor. El problema es que es incluso mas propenso al overfitting, sin importar el número de neuronas o capas, o si se usa Dropout o algún otro tipo de regularización. Más de tres epochs significa caer en overfitting en todos los casos probados."
   ]
  },
  {
   "cell_type": "markdown",
   "metadata": {},
   "source": [
    "CNN\n",
    "\n",
    "Los reviews poseen una estructura espacial que no es considerada por el MLP, que es el orden en que aparecen las palabras. Las redes convolucionales son ideales para este tipo de problemas, por lo que se experimentará apilando capas convolucionales con MLP y LSTM."
   ]
  },
  {
   "cell_type": "markdown",
   "metadata": {},
   "source": [
    "CNN + MLP"
   ]
  },
  {
   "cell_type": "code",
   "execution_count": 13,
   "metadata": {
    "collapsed": false
   },
   "outputs": [
    {
     "name": "stdout",
     "output_type": "stream",
     "text": [
      "____________________________________________________________________________________________________\n",
      "Layer (type)                     Output Shape          Param #     Connected to                     \n",
      "====================================================================================================\n",
      "embedding_5 (Embedding)          (None, 500, 32)       160000      embedding_input_8[0][0]          \n",
      "____________________________________________________________________________________________________\n",
      "convolution1d_2 (Convolution1D)  (None, 500, 32)       3104        embedding_5[0][0]                \n",
      "____________________________________________________________________________________________________\n",
      "maxpooling1d_2 (MaxPooling1D)    (None, 250, 32)       0           convolution1d_2[0][0]            \n",
      "____________________________________________________________________________________________________\n",
      "flatten_4 (Flatten)              (None, 8000)          0           maxpooling1d_2[0][0]             \n",
      "____________________________________________________________________________________________________\n",
      "dense_7 (Dense)                  (None, 250)           2000250     flatten_4[0][0]                  \n",
      "____________________________________________________________________________________________________\n",
      "dense_8 (Dense)                  (None, 1)             251         dense_7[0][0]                    \n",
      "====================================================================================================\n",
      "Total params: 2163605\n",
      "____________________________________________________________________________________________________\n"
     ]
    },
    {
     "data": {
      "image/svg+xml": [
       "<svg height=\"483pt\" viewBox=\"0.00 0.00 208.00 483.00\" width=\"208pt\" xmlns=\"http://www.w3.org/2000/svg\" xmlns:xlink=\"http://www.w3.org/1999/xlink\">\n",
       "<g class=\"graph\" id=\"graph0\" transform=\"scale(1 1) rotate(0) translate(4 479)\">\n",
       "<title>G</title>\n",
       "<polygon fill=\"white\" points=\"-4,4 -4,-479 204,-479 204,4 -4,4\" stroke=\"none\"/>\n",
       "<!-- 139953790045600 -->\n",
       "<g class=\"node\" id=\"node1\"><title>139953790045600</title>\n",
       "<polygon fill=\"none\" points=\"3.5,-438.5 3.5,-474.5 196.5,-474.5 196.5,-438.5 3.5,-438.5\" stroke=\"black\"/>\n",
       "<text font-family=\"Times,serif\" font-size=\"14.00\" text-anchor=\"middle\" x=\"100\" y=\"-452.8\">embedding_input_8: InputLayer</text>\n",
       "</g>\n",
       "<!-- 139953790044984 -->\n",
       "<g class=\"node\" id=\"node2\"><title>139953790044984</title>\n",
       "<polygon fill=\"none\" points=\"19.5,-365.5 19.5,-401.5 180.5,-401.5 180.5,-365.5 19.5,-365.5\" stroke=\"black\"/>\n",
       "<text font-family=\"Times,serif\" font-size=\"14.00\" text-anchor=\"middle\" x=\"100\" y=\"-379.8\">embedding_5: Embedding</text>\n",
       "</g>\n",
       "<!-- 139953790045600&#45;&gt;139953790044984 -->\n",
       "<g class=\"edge\" id=\"edge1\"><title>139953790045600-&gt;139953790044984</title>\n",
       "<path d=\"M100,-438.313C100,-430.289 100,-420.547 100,-411.569\" fill=\"none\" stroke=\"black\"/>\n",
       "<polygon fill=\"black\" points=\"103.5,-411.529 100,-401.529 96.5001,-411.529 103.5,-411.529\" stroke=\"black\"/>\n",
       "</g>\n",
       "<!-- 139953790045488 -->\n",
       "<g class=\"node\" id=\"node3\"><title>139953790045488</title>\n",
       "<polygon fill=\"none\" points=\"0,-292.5 0,-328.5 200,-328.5 200,-292.5 0,-292.5\" stroke=\"black\"/>\n",
       "<text font-family=\"Times,serif\" font-size=\"14.00\" text-anchor=\"middle\" x=\"100\" y=\"-306.8\">convolution1d_2: Convolution1D</text>\n",
       "</g>\n",
       "<!-- 139953790044984&#45;&gt;139953790045488 -->\n",
       "<g class=\"edge\" id=\"edge2\"><title>139953790044984-&gt;139953790045488</title>\n",
       "<path d=\"M100,-365.313C100,-357.289 100,-347.547 100,-338.569\" fill=\"none\" stroke=\"black\"/>\n",
       "<polygon fill=\"black\" points=\"103.5,-338.529 100,-328.529 96.5001,-338.529 103.5,-338.529\" stroke=\"black\"/>\n",
       "</g>\n",
       "<!-- 139953790127912 -->\n",
       "<g class=\"node\" id=\"node4\"><title>139953790127912</title>\n",
       "<polygon fill=\"none\" points=\"0,-219.5 0,-255.5 200,-255.5 200,-219.5 0,-219.5\" stroke=\"black\"/>\n",
       "<text font-family=\"Times,serif\" font-size=\"14.00\" text-anchor=\"middle\" x=\"100\" y=\"-233.8\">maxpooling1d_2: MaxPooling1D</text>\n",
       "</g>\n",
       "<!-- 139953790045488&#45;&gt;139953790127912 -->\n",
       "<g class=\"edge\" id=\"edge3\"><title>139953790045488-&gt;139953790127912</title>\n",
       "<path d=\"M100,-292.313C100,-284.289 100,-274.547 100,-265.569\" fill=\"none\" stroke=\"black\"/>\n",
       "<polygon fill=\"black\" points=\"103.5,-265.529 100,-255.529 96.5001,-265.529 103.5,-265.529\" stroke=\"black\"/>\n",
       "</g>\n",
       "<!-- 139953789722352 -->\n",
       "<g class=\"node\" id=\"node5\"><title>139953789722352</title>\n",
       "<polygon fill=\"none\" points=\"45,-146.5 45,-182.5 155,-182.5 155,-146.5 45,-146.5\" stroke=\"black\"/>\n",
       "<text font-family=\"Times,serif\" font-size=\"14.00\" text-anchor=\"middle\" x=\"100\" y=\"-160.8\">flatten_4: Flatten</text>\n",
       "</g>\n",
       "<!-- 139953790127912&#45;&gt;139953789722352 -->\n",
       "<g class=\"edge\" id=\"edge4\"><title>139953790127912-&gt;139953789722352</title>\n",
       "<path d=\"M100,-219.313C100,-211.289 100,-201.547 100,-192.569\" fill=\"none\" stroke=\"black\"/>\n",
       "<polygon fill=\"black\" points=\"103.5,-192.529 100,-182.529 96.5001,-192.529 103.5,-192.529\" stroke=\"black\"/>\n",
       "</g>\n",
       "<!-- 139953789757480 -->\n",
       "<g class=\"node\" id=\"node6\"><title>139953789757480</title>\n",
       "<polygon fill=\"none\" points=\"49,-73.5 49,-109.5 151,-109.5 151,-73.5 49,-73.5\" stroke=\"black\"/>\n",
       "<text font-family=\"Times,serif\" font-size=\"14.00\" text-anchor=\"middle\" x=\"100\" y=\"-87.8\">dense_7: Dense</text>\n",
       "</g>\n",
       "<!-- 139953789722352&#45;&gt;139953789757480 -->\n",
       "<g class=\"edge\" id=\"edge5\"><title>139953789722352-&gt;139953789757480</title>\n",
       "<path d=\"M100,-146.313C100,-138.289 100,-128.547 100,-119.569\" fill=\"none\" stroke=\"black\"/>\n",
       "<polygon fill=\"black\" points=\"103.5,-119.529 100,-109.529 96.5001,-119.529 103.5,-119.529\" stroke=\"black\"/>\n",
       "</g>\n",
       "<!-- 139953789792776 -->\n",
       "<g class=\"node\" id=\"node7\"><title>139953789792776</title>\n",
       "<polygon fill=\"none\" points=\"49,-0.5 49,-36.5 151,-36.5 151,-0.5 49,-0.5\" stroke=\"black\"/>\n",
       "<text font-family=\"Times,serif\" font-size=\"14.00\" text-anchor=\"middle\" x=\"100\" y=\"-14.8\">dense_8: Dense</text>\n",
       "</g>\n",
       "<!-- 139953789757480&#45;&gt;139953789792776 -->\n",
       "<g class=\"edge\" id=\"edge6\"><title>139953789757480-&gt;139953789792776</title>\n",
       "<path d=\"M100,-73.3129C100,-65.2895 100,-55.5475 100,-46.5691\" fill=\"none\" stroke=\"black\"/>\n",
       "<polygon fill=\"black\" points=\"103.5,-46.5288 100,-36.5288 96.5001,-46.5289 103.5,-46.5288\" stroke=\"black\"/>\n",
       "</g>\n",
       "</g>\n",
       "</svg>"
      ],
      "text/plain": [
       "<IPython.core.display.SVG object>"
      ]
     },
     "execution_count": 13,
     "metadata": {},
     "output_type": "execute_result"
    }
   ],
   "source": [
    "embedding_vector_length = 32\n",
    "model = Sequential()\n",
    "model.add(Embedding(5000, embedding_vector_length, input_length=500))\n",
    "model.add(Convolution1D(nb_filter=32, filter_length=3, border_mode='same', activation='relu'))\n",
    "model.add(MaxPooling1D(pool_length=2))\n",
    "model.add(Flatten())\n",
    "model.add(Dense(250, activation='relu'))\n",
    "model.add(Dense(1, activation='sigmoid'))\n",
    "model.compile(loss='binary_crossentropy', optimizer='adam', metrics=['accuracy'])\n",
    "model.summary()\n",
    "\n",
    "from IPython.display import SVG\n",
    "from keras.utils.visualize_util import model_to_dot\n",
    "\n",
    "SVG(model_to_dot(model).create(prog='dot', format='svg'))"
   ]
  },
  {
   "cell_type": "markdown",
   "metadata": {},
   "source": [
    "#### Resultados\n",
    "\n",
    "Precisión de Clasificación"
   ]
  },
  {
   "cell_type": "code",
   "execution_count": 11,
   "metadata": {
    "collapsed": false
   },
   "outputs": [
    {
     "name": "stdout",
     "output_type": "stream",
     "text": [
      "Precisión de clasificación CNN + MLP:  0.88964\n"
     ]
    }
   ],
   "source": [
    "model = load_model('RNN-cnn-1.h5')\n",
    "score_cnn_mlp = model.evaluate(X_test, y_test, verbose=0)\n",
    "print('Precisión de clasificación CNN + MLP: ', score_cnn_mlp[1])"
   ]
  },
  {
   "cell_type": "markdown",
   "metadata": {},
   "source": [
    "Hasta el momento, esta red obtuvo el mejor resultado. Se intentó regularizar con dropout y seguir entrenando la red, pero al igual que con el MLP, pasado un par de epochs se cae en overfitting.\n",
    "\n",
    "En la sección anterior vimos que LSTM con dropout es menos propenso al overfitting que MLP con dropout, por lo que se experimentará en base a estos resultados."
   ]
  },
  {
   "cell_type": "markdown",
   "metadata": {},
   "source": [
    "CNN + LSTM\n",
    "\n",
    "Se reemplazará la capa Dense con 250 unidades por una capa LSTM de 100 bloques. Como buscamos el mejor resultado, se entrenarán las redes hasta que la precisión deje de aumentar."
   ]
  },
  {
   "cell_type": "code",
   "execution_count": 14,
   "metadata": {
    "collapsed": false
   },
   "outputs": [
    {
     "name": "stdout",
     "output_type": "stream",
     "text": [
      "____________________________________________________________________________________________________\n",
      "Layer (type)                     Output Shape          Param #     Connected to                     \n",
      "====================================================================================================\n",
      "embedding_6 (Embedding)          (None, 500, 32)       160000      embedding_input_9[0][0]          \n",
      "____________________________________________________________________________________________________\n",
      "convolution1d_3 (Convolution1D)  (None, 500, 32)       3104        embedding_6[0][0]                \n",
      "____________________________________________________________________________________________________\n",
      "maxpooling1d_3 (MaxPooling1D)    (None, 250, 32)       0           convolution1d_3[0][0]            \n",
      "____________________________________________________________________________________________________\n",
      "lstm_1 (LSTM)                    (None, 100)           53200       maxpooling1d_3[0][0]             \n",
      "____________________________________________________________________________________________________\n",
      "dense_9 (Dense)                  (None, 1)             101         lstm_1[0][0]                     \n",
      "====================================================================================================\n",
      "Total params: 216405\n",
      "____________________________________________________________________________________________________\n"
     ]
    },
    {
     "data": {
      "image/svg+xml": [
       "<svg height=\"410pt\" viewBox=\"0.00 0.00 208.00 410.00\" width=\"208pt\" xmlns=\"http://www.w3.org/2000/svg\" xmlns:xlink=\"http://www.w3.org/1999/xlink\">\n",
       "<g class=\"graph\" id=\"graph0\" transform=\"scale(1 1) rotate(0) translate(4 406)\">\n",
       "<title>G</title>\n",
       "<polygon fill=\"white\" points=\"-4,4 -4,-406 204,-406 204,4 -4,4\" stroke=\"none\"/>\n",
       "<!-- 139953789935176 -->\n",
       "<g class=\"node\" id=\"node1\"><title>139953789935176</title>\n",
       "<polygon fill=\"none\" points=\"3.5,-365.5 3.5,-401.5 196.5,-401.5 196.5,-365.5 3.5,-365.5\" stroke=\"black\"/>\n",
       "<text font-family=\"Times,serif\" font-size=\"14.00\" text-anchor=\"middle\" x=\"100\" y=\"-379.8\">embedding_input_9: InputLayer</text>\n",
       "</g>\n",
       "<!-- 139953974334296 -->\n",
       "<g class=\"node\" id=\"node2\"><title>139953974334296</title>\n",
       "<polygon fill=\"none\" points=\"19.5,-292.5 19.5,-328.5 180.5,-328.5 180.5,-292.5 19.5,-292.5\" stroke=\"black\"/>\n",
       "<text font-family=\"Times,serif\" font-size=\"14.00\" text-anchor=\"middle\" x=\"100\" y=\"-306.8\">embedding_6: Embedding</text>\n",
       "</g>\n",
       "<!-- 139953789935176&#45;&gt;139953974334296 -->\n",
       "<g class=\"edge\" id=\"edge1\"><title>139953789935176-&gt;139953974334296</title>\n",
       "<path d=\"M100,-365.313C100,-357.289 100,-347.547 100,-338.569\" fill=\"none\" stroke=\"black\"/>\n",
       "<polygon fill=\"black\" points=\"103.5,-338.529 100,-328.529 96.5001,-338.529 103.5,-338.529\" stroke=\"black\"/>\n",
       "</g>\n",
       "<!-- 139953974336032 -->\n",
       "<g class=\"node\" id=\"node3\"><title>139953974336032</title>\n",
       "<polygon fill=\"none\" points=\"0,-219.5 0,-255.5 200,-255.5 200,-219.5 0,-219.5\" stroke=\"black\"/>\n",
       "<text font-family=\"Times,serif\" font-size=\"14.00\" text-anchor=\"middle\" x=\"100\" y=\"-233.8\">convolution1d_3: Convolution1D</text>\n",
       "</g>\n",
       "<!-- 139953974334296&#45;&gt;139953974336032 -->\n",
       "<g class=\"edge\" id=\"edge2\"><title>139953974334296-&gt;139953974336032</title>\n",
       "<path d=\"M100,-292.313C100,-284.289 100,-274.547 100,-265.569\" fill=\"none\" stroke=\"black\"/>\n",
       "<polygon fill=\"black\" points=\"103.5,-265.529 100,-255.529 96.5001,-265.529 103.5,-265.529\" stroke=\"black\"/>\n",
       "</g>\n",
       "<!-- 139953976532776 -->\n",
       "<g class=\"node\" id=\"node4\"><title>139953976532776</title>\n",
       "<polygon fill=\"none\" points=\"0,-146.5 0,-182.5 200,-182.5 200,-146.5 0,-146.5\" stroke=\"black\"/>\n",
       "<text font-family=\"Times,serif\" font-size=\"14.00\" text-anchor=\"middle\" x=\"100\" y=\"-160.8\">maxpooling1d_3: MaxPooling1D</text>\n",
       "</g>\n",
       "<!-- 139953974336032&#45;&gt;139953976532776 -->\n",
       "<g class=\"edge\" id=\"edge3\"><title>139953974336032-&gt;139953976532776</title>\n",
       "<path d=\"M100,-219.313C100,-211.289 100,-201.547 100,-192.569\" fill=\"none\" stroke=\"black\"/>\n",
       "<polygon fill=\"black\" points=\"103.5,-192.529 100,-182.529 96.5001,-192.529 103.5,-192.529\" stroke=\"black\"/>\n",
       "</g>\n",
       "<!-- 139954109081584 -->\n",
       "<g class=\"node\" id=\"node5\"><title>139954109081584</title>\n",
       "<polygon fill=\"none\" points=\"51,-73.5 51,-109.5 149,-109.5 149,-73.5 51,-73.5\" stroke=\"black\"/>\n",
       "<text font-family=\"Times,serif\" font-size=\"14.00\" text-anchor=\"middle\" x=\"100\" y=\"-87.8\">lstm_1: LSTM</text>\n",
       "</g>\n",
       "<!-- 139953976532776&#45;&gt;139954109081584 -->\n",
       "<g class=\"edge\" id=\"edge4\"><title>139953976532776-&gt;139954109081584</title>\n",
       "<path d=\"M100,-146.313C100,-138.289 100,-128.547 100,-119.569\" fill=\"none\" stroke=\"black\"/>\n",
       "<polygon fill=\"black\" points=\"103.5,-119.529 100,-109.529 96.5001,-119.529 103.5,-119.529\" stroke=\"black\"/>\n",
       "</g>\n",
       "<!-- 139954109079904 -->\n",
       "<g class=\"node\" id=\"node6\"><title>139954109079904</title>\n",
       "<polygon fill=\"none\" points=\"49,-0.5 49,-36.5 151,-36.5 151,-0.5 49,-0.5\" stroke=\"black\"/>\n",
       "<text font-family=\"Times,serif\" font-size=\"14.00\" text-anchor=\"middle\" x=\"100\" y=\"-14.8\">dense_9: Dense</text>\n",
       "</g>\n",
       "<!-- 139954109081584&#45;&gt;139954109079904 -->\n",
       "<g class=\"edge\" id=\"edge5\"><title>139954109081584-&gt;139954109079904</title>\n",
       "<path d=\"M100,-73.3129C100,-65.2895 100,-55.5475 100,-46.5691\" fill=\"none\" stroke=\"black\"/>\n",
       "<polygon fill=\"black\" points=\"103.5,-46.5288 100,-36.5288 96.5001,-46.5289 103.5,-46.5288\" stroke=\"black\"/>\n",
       "</g>\n",
       "</g>\n",
       "</svg>"
      ],
      "text/plain": [
       "<IPython.core.display.SVG object>"
      ]
     },
     "execution_count": 14,
     "metadata": {},
     "output_type": "execute_result"
    }
   ],
   "source": [
    "embedding_vector_length = 32\n",
    "model = Sequential()\n",
    "model.add(Embedding(5000, embedding_vector_length, input_length=500))\n",
    "model.add(Convolution1D(nb_filter=32, filter_length=3, border_mode='same', activation='relu'))\n",
    "model.add(MaxPooling1D(pool_length=2))\n",
    "model.add(LSTM(100))\n",
    "model.add(Dense(1, activation='sigmoid'))\n",
    "model.compile(loss='binary_crossentropy', optimizer='adam', metrics=['accuracy'])\n",
    "model.summary()\n",
    "\n",
    "SVG(model_to_dot(model).create(prog='dot', format='svg'))"
   ]
  },
  {
   "cell_type": "code",
   "execution_count": null,
   "metadata": {
    "collapsed": true
   },
   "outputs": [],
   "source": [
    "from keras.callbacks import EarlyStopping\n",
    "\n",
    "early_stopping = EarlyStopping(monitor='val_acc', patience=1)\n",
    "model.fit(X_train, y_train, validation_data=(X_test, y_test), nb_epoch=10, batch_size=64, callbacks=[early_stopping])\n",
    "\n",
    "model.save('RNN-cnn-lstm.h5')"
   ]
  },
  {
   "cell_type": "markdown",
   "metadata": {},
   "source": [
    "#### Resultados\n",
    "\n",
    "Precisión de Clasificación"
   ]
  },
  {
   "cell_type": "code",
   "execution_count": 16,
   "metadata": {
    "collapsed": false
   },
   "outputs": [
    {
     "name": "stdout",
     "output_type": "stream",
     "text": [
      "Precisión de clasificación CNN + LSTM:  0.88256\n"
     ]
    }
   ],
   "source": [
    "model = load_model('RNN-cnn-lstm.h5')\n",
    "score_cnn_lstm = model.evaluate(X_test, y_test, verbose=0)\n",
    "print('Precisión de clasificación CNN + LSTM: ', score_cnn_lstm[1])"
   ]
  },
  {
   "cell_type": "code",
   "execution_count": null,
   "metadata": {
    "collapsed": true
   },
   "outputs": [],
   "source": []
  }
 ],
 "metadata": {
  "anaconda-cloud": {},
  "kernelspec": {
   "display_name": "Python [conda root]",
   "language": "python",
   "name": "conda-root-py"
  },
  "language_info": {
   "codemirror_mode": {
    "name": "ipython",
    "version": 3
   },
   "file_extension": ".py",
   "mimetype": "text/x-python",
   "name": "python",
   "nbconvert_exporter": "python",
   "pygments_lexer": "ipython3",
   "version": "3.5.2"
  }
 },
 "nbformat": 4,
 "nbformat_minor": 1
}
