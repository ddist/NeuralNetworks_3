{
 "cells": [
  {
   "cell_type": "markdown",
   "metadata": {},
   "source": [
    "<center>\n",
    "    <h1>Tarea 3 ANN</h1>\n",
    "    <h2>Recurrent Neural Networks</h2>\n",
    "    <br>\n",
    "    <h3>Diego Pérez - 201173045-3</h3>\n",
    "    <h3>Ariel Sanhueza - ROL</h3>\n",
    "</center>"
   ]
  },
  {
   "cell_type": "markdown",
   "metadata": {},
   "source": [
    "### Importación de módulos a utilizar durante los experimentos."
   ]
  },
  {
   "cell_type": "code",
   "execution_count": 1,
   "metadata": {
    "collapsed": false
   },
   "outputs": [
    {
     "name": "stderr",
     "output_type": "stream",
     "text": [
      "Using Theano backend.\n"
     ]
    }
   ],
   "source": [
    "import pandas as pd\n",
    "import numpy as np\n",
    "import math\n",
    "from sklearn.preprocessing import MinMaxScaler\n",
    "from sklearn.metrics import mean_squared_error\n",
    "\n",
    "from keras.models import Sequential\n",
    "from keras.layers import LSTM, Dense\n",
    "from keras.models import load_model\n",
    "from keras.wrappers.scikit_learn import KerasRegressor\n",
    "from sklearn.model_selection import GridSearchCV\n",
    "\n",
    "%matplotlib inline"
   ]
  },
  {
   "cell_type": "markdown",
   "metadata": {},
   "source": [
    "### RNN en series de tiempo"
   ]
  },
  {
   "cell_type": "markdown",
   "metadata": {},
   "source": [
    "Se utilizará el dataset International Airline Passengers y el objetivo de la red a entrenar será predecir el número de pasajeros en vuelos internacionales."
   ]
  },
  {
   "cell_type": "markdown",
   "metadata": {},
   "source": [
    "#### a) Cargar, dividir y escalar el dataset\n",
    "\n",
    "Se utilizará el MinMaxScaler en el rango (0,1), es decir, se tomará el menor y mayor valor del dataset y se asignarán como 0 y 1 respectivamente. Todos los demas valores del dataset se escalarán apropiadamente en base al máximo y mínimo."
   ]
  },
  {
   "cell_type": "code",
   "execution_count": 2,
   "metadata": {
    "collapsed": true
   },
   "outputs": [],
   "source": [
    "### LOAD THE DATASET\n",
    "url = 'http://www.inf.utfsm.cl/~cvalle/international-airline-passengers.csv'\n",
    "dataframe = pd.read_csv(url, sep=',', usecols=[1], engine='python', skipfooter=3)\n",
    "dataframe[:] = dataframe[:].astype('float32')"
   ]
  },
  {
   "cell_type": "code",
   "execution_count": 3,
   "metadata": {
    "collapsed": false
   },
   "outputs": [],
   "source": [
    "### SPLIT INTO TRAINING AND TEST SETS\n",
    "df_train, df_test = dataframe[0:96].values, dataframe[96:].values\n",
    "### SCALE BOTH SETS USING THE SAME MINMAXSCALER\n",
    "scaler = MinMaxScaler(feature_range=(0, 1)).fit(df_train)\n",
    "stream_train_scaled = scaler.transform(df_train)\n",
    "stream_test_scaled = scaler.transform(df_test)"
   ]
  },
  {
   "cell_type": "markdown",
   "metadata": {},
   "source": [
    "Con los datos ya divididos y escalados, es necesario construir la matriz de entrada para las RNN, a partir de la serie de tiempo."
   ]
  },
  {
   "cell_type": "markdown",
   "metadata": {},
   "source": [
    "#### b) Transformar entrada\n",
    "\n",
    "La siguiente función transforma un vector de entrada (serie de tiempo) considerando un lag como parámentro, para poder ser utilizado como input de las RNN."
   ]
  },
  {
   "cell_type": "code",
   "execution_count": 4,
   "metadata": {
    "collapsed": true
   },
   "outputs": [],
   "source": [
    "def create_dataset(ts, lag=1):\n",
    "    dataX = np.array([])\n",
    "    for index in range(lag, len(ts)):\n",
    "        dataX = np.append(dataX, np.array([ts[index-lag:index]]))\n",
    "    return dataX.reshape(len(ts)-lag, lag), ts[lag:]"
   ]
  },
  {
   "cell_type": "markdown",
   "metadata": {},
   "source": [
    "#### c) Crear datsets\n",
    "\n",
    "Usando lag igual a 3, se crean los dataset de entrenamiento y pruebas."
   ]
  },
  {
   "cell_type": "code",
   "execution_count": 5,
   "metadata": {
    "collapsed": false
   },
   "outputs": [
    {
     "name": "stdout",
     "output_type": "stream",
     "text": [
      "Conjunto de entrenamiento con lag=3:  (93, 3)\n",
      "Conjunto de pruebas con lag=3:  (45, 3)\n"
     ]
    }
   ],
   "source": [
    "lag = 3\n",
    "trainX, trainY = create_dataset(stream_train_scaled, lag)\n",
    "testX, testY = create_dataset(stream_test_scaled, lag)\n",
    "print('Conjunto de entrenamiento con lag=' + str(lag) + ': ', trainX.shape)\n",
    "print('Conjunto de pruebas con lag=' + str(lag) + ': ', testX.shape)"
   ]
  },
  {
   "cell_type": "markdown",
   "metadata": {},
   "source": [
    "#### d) Transformación para LSTM\n",
    "\n",
    "Para poder usar el dataset en una LSTM, necesitamos entradas de la forma [samples, time steps, features]."
   ]
  },
  {
   "cell_type": "code",
   "execution_count": 6,
   "metadata": {
    "collapsed": false
   },
   "outputs": [
    {
     "name": "stdout",
     "output_type": "stream",
     "text": [
      "Conjunto de entrenamiento con lag=3:  (93, 1, 3)\n",
      "Conjunto de pruebas con lag=3:  (45, 1, 3)\n"
     ]
    }
   ],
   "source": [
    "trainX = np.reshape(trainX, (trainX.shape[0], 1, trainX.shape[1]))\n",
    "testX = np.reshape(testX, (testX.shape[0], 1, testX.shape[1]))\n",
    "print('Conjunto de entrenamiento con lag=' + str(lag) + ': ', trainX.shape)\n",
    "print('Conjunto de pruebas con lag=' + str(lag) + ': ', testX.shape)"
   ]
  },
  {
   "cell_type": "markdown",
   "metadata": {},
   "source": [
    "#### e) Entrenamiento\n",
    "\n",
    "Con las entradas en el formato correcto, generamos el modelo de la red, para luego entrenarla."
   ]
  },
  {
   "cell_type": "code",
   "execution_count": 7,
   "metadata": {
    "collapsed": false
   },
   "outputs": [
    {
     "name": "stdout",
     "output_type": "stream",
     "text": [
      "____________________________________________________________________________________________________\n",
      "Layer (type)                     Output Shape          Param #     Connected to                     \n",
      "====================================================================================================\n",
      "lstm_1 (LSTM)                    (None, 4)             128         lstm_input_1[0][0]               \n",
      "____________________________________________________________________________________________________\n",
      "dense_1 (Dense)                  (None, 1)             5           lstm_1[0][0]                     \n",
      "====================================================================================================\n",
      "Total params: 133\n",
      "____________________________________________________________________________________________________\n"
     ]
    },
    {
     "data": {
      "image/svg+xml": [
       "<svg height=\"191pt\" viewBox=\"0.00 0.00 164.00 191.00\" width=\"164pt\" xmlns=\"http://www.w3.org/2000/svg\" xmlns:xlink=\"http://www.w3.org/1999/xlink\">\n",
       "<g class=\"graph\" id=\"graph0\" transform=\"scale(1 1) rotate(0) translate(4 187)\">\n",
       "<title>G</title>\n",
       "<polygon fill=\"white\" points=\"-4,4 -4,-187 160,-187 160,4 -4,4\" stroke=\"none\"/>\n",
       "<!-- 140653625383512 -->\n",
       "<g class=\"node\" id=\"node1\"><title>140653625383512</title>\n",
       "<polygon fill=\"none\" points=\"0,-146.5 0,-182.5 156,-182.5 156,-146.5 0,-146.5\" stroke=\"black\"/>\n",
       "<text font-family=\"Times,serif\" font-size=\"14.00\" text-anchor=\"middle\" x=\"78\" y=\"-160.8\">lstm_input_1: InputLayer</text>\n",
       "</g>\n",
       "<!-- 140653625383176 -->\n",
       "<g class=\"node\" id=\"node2\"><title>140653625383176</title>\n",
       "<polygon fill=\"none\" points=\"29,-73.5 29,-109.5 127,-109.5 127,-73.5 29,-73.5\" stroke=\"black\"/>\n",
       "<text font-family=\"Times,serif\" font-size=\"14.00\" text-anchor=\"middle\" x=\"78\" y=\"-87.8\">lstm_1: LSTM</text>\n",
       "</g>\n",
       "<!-- 140653625383512&#45;&gt;140653625383176 -->\n",
       "<g class=\"edge\" id=\"edge1\"><title>140653625383512-&gt;140653625383176</title>\n",
       "<path d=\"M78,-146.313C78,-138.289 78,-128.547 78,-119.569\" fill=\"none\" stroke=\"black\"/>\n",
       "<polygon fill=\"black\" points=\"81.5001,-119.529 78,-109.529 74.5001,-119.529 81.5001,-119.529\" stroke=\"black\"/>\n",
       "</g>\n",
       "<!-- 140653625383288 -->\n",
       "<g class=\"node\" id=\"node3\"><title>140653625383288</title>\n",
       "<polygon fill=\"none\" points=\"27,-0.5 27,-36.5 129,-36.5 129,-0.5 27,-0.5\" stroke=\"black\"/>\n",
       "<text font-family=\"Times,serif\" font-size=\"14.00\" text-anchor=\"middle\" x=\"78\" y=\"-14.8\">dense_1: Dense</text>\n",
       "</g>\n",
       "<!-- 140653625383176&#45;&gt;140653625383288 -->\n",
       "<g class=\"edge\" id=\"edge2\"><title>140653625383176-&gt;140653625383288</title>\n",
       "<path d=\"M78,-73.3129C78,-65.2895 78,-55.5475 78,-46.5691\" fill=\"none\" stroke=\"black\"/>\n",
       "<polygon fill=\"black\" points=\"81.5001,-46.5288 78,-36.5288 74.5001,-46.5289 81.5001,-46.5288\" stroke=\"black\"/>\n",
       "</g>\n",
       "</g>\n",
       "</svg>"
      ],
      "text/plain": [
       "<IPython.core.display.SVG object>"
      ]
     },
     "execution_count": 7,
     "metadata": {},
     "output_type": "execute_result"
    }
   ],
   "source": [
    "model = Sequential()\n",
    "model.add(LSTM(4, input_dim=lag, activation='tanh', inner_activation='sigmoid'))\n",
    "model.add(Dense(1))\n",
    "model.compile(loss='mean_squared_error', optimizer='adam')\n",
    "model.summary()\n",
    "\n",
    "from IPython.display import SVG\n",
    "from keras.utils.visualize_util import model_to_dot\n",
    "\n",
    "SVG(model_to_dot(model).create(prog='dot', format='svg'))"
   ]
  },
  {
   "cell_type": "markdown",
   "metadata": {},
   "source": [
    "La inicialización de los pesos es por Gaussiana escalada, como se propone en Glorot, 2010. Para los pesos internos, se usa inicialización ortogonal, donde la matriz obtenida tiene eigenvalues igual a 1, atenuando el problema de vanishing gradient.\n",
    "Los parámetros por defecto del optimizador Adam son:\n",
    "* learning rate = 0.001\n",
    "* beta_1 = 0.9\n",
    "* beta_2 = 0.999"
   ]
  },
  {
   "cell_type": "code",
   "execution_count": null,
   "metadata": {
    "collapsed": true
   },
   "outputs": [],
   "source": [
    "model.fit(trainX, trainY, nb_epoch=100, batch_size=1, verbose=2)\n",
    "model.save('RNN-lag3.h5')"
   ]
  },
  {
   "cell_type": "markdown",
   "metadata": {},
   "source": [
    "#### f) Predicción y desnormalización.\n",
    "\n",
    "Se realiza la predicción para los conjuntos de entrenamiento y pruebas, desnormalizando los datos para obtener el error en la escala original."
   ]
  },
  {
   "cell_type": "code",
   "execution_count": 8,
   "metadata": {
    "collapsed": true
   },
   "outputs": [],
   "source": [
    "# LOAD MODEL\n",
    "model = load_model('RNN-lag3.h5')\n",
    "# PREDICT SETS\n",
    "trainPredict = model.predict(trainX)\n",
    "testPredict = model.predict(testX)"
   ]
  },
  {
   "cell_type": "code",
   "execution_count": 9,
   "metadata": {
    "collapsed": true
   },
   "outputs": [],
   "source": [
    "def rmse(y_true, y_pred):\n",
    "    scaled_pred = scaler.inverse_transform(y_pred)\n",
    "    scaled_true = scaler.inverse_transform(y_true)\n",
    "    return np.sqrt(mean_squared_error(scaled_true, scaled_pred[:,0]))"
   ]
  },
  {
   "cell_type": "markdown",
   "metadata": {},
   "source": [
    "#### g) RMSE"
   ]
  },
  {
   "cell_type": "code",
   "execution_count": 10,
   "metadata": {
    "collapsed": false
   },
   "outputs": [
    {
     "name": "stdout",
     "output_type": "stream",
     "text": [
      "Train Score: 20.78 RMSE\n",
      "Test Score: 64.11 RMSE\n"
     ]
    }
   ],
   "source": [
    "# CALCULATE ROOT MSE\n",
    "trainScore = rmse(trainY, trainPredict)\n",
    "print('Train Score: %.2f RMSE' % (trainScore))\n",
    "testScore = rmse(testY, testPredict)\n",
    "print('Test Score: %.2f RMSE' % (testScore))"
   ]
  },
  {
   "cell_type": "markdown",
   "metadata": {
    "collapsed": true
   },
   "source": [
    "#### h) Graficar"
   ]
  },
  {
   "cell_type": "code",
   "execution_count": 10,
   "metadata": {
    "collapsed": false
   },
   "outputs": [
    {
     "data": {
      "text/plain": [
       "[<matplotlib.lines.Line2D at 0x7fabc2a439e8>,\n",
       " <matplotlib.lines.Line2D at 0x7fabc176deb8>]"
      ]
     },
     "execution_count": 10,
     "metadata": {},
     "output_type": "execute_result"
    },
    {
     "data": {
      "image/png": "[encoded data removed]",
      "text/plain": [
       "<matplotlib.figure.Figure at 0x7fabca90c358>"
      ]
     },
     "metadata": {},
     "output_type": "display_data"
    },
    {
     "data": {
      "image/png": "[encoded data removed]",
      "text/plain": [
       "<matplotlib.figure.Figure at 0x7fabca90c9b0>"
      ]
     },
     "metadata": {},
     "output_type": "display_data"
    }
   ],
   "source": [
    "# shift train predictions for plotting\n",
    "trainPredictPlot = np.empty_like(df_train)\n",
    "trainPredictPlot[:, :] = np.nan\n",
    "trainPredictPlot[2:len(trainPredict)+2, :] = trainPredict\n",
    "# shift test predictions for plotting\n",
    "testPredictPlot = np.empty_like(df_test)\n",
    "testPredictPlot[:, :] = np.nan\n",
    "testPredictPlot[2:len(testPredict)+2, :] = testPredict\n",
    "\n",
    "import matplotlib.pyplot as plt\n",
    "\n",
    "plt.figure()\n",
    "plt.plot(range(0,len(trainPredictPlot)), np.column_stack((df_train, trainPredictPlot)))\n",
    "\n",
    "plt.figure()\n",
    "plt.plot(range(0,len(testPredictPlot)), np.column_stack((df_test, testPredictPlot)))"
   ]
  },
  {
   "cell_type": "markdown",
   "metadata": {
    "collapsed": true
   },
   "source": [
    "#### h) Determinar bloques con 5-fold CV"
   ]
  },
  {
   "cell_type": "code",
   "execution_count": 54,
   "metadata": {
    "collapsed": false
   },
   "outputs": [
    {
     "name": "stdout",
     "output_type": "stream",
     "text": [
      "Fitting 5 folds for each of 5 candidates, totalling 25 fits\n"
     ]
    },
    {
     "name": "stderr",
     "output_type": "stream",
     "text": [
      "[Parallel(n_jobs=-1)]: Done  25 out of  25 | elapsed:  2.4min finished\n"
     ]
    }
   ],
   "source": [
    "def create_model(nb=4):\n",
    "    model = Sequential()\n",
    "    model.add(LSTM(nb, input_dim=lag, activation='tanh', inner_activation='sigmoid'))\n",
    "    model.add(Dense(1))\n",
    "    model.compile(loss='mean_squared_error', optimizer='adam', metrics=['mse'])\n",
    "    return model\n",
    "\n",
    "seed = 7\n",
    "np.random.seed(seed)\n",
    "\n",
    "model = KerasRegressor(build_fn=create_model, verbose=0)\n",
    "\n",
    "param_grid = dict(nb=[4,6,8,10,12], nb_epoch=[100], batch_size=[1])\n",
    "grid = GridSearchCV(estimator=model, param_grid=param_grid, cv=5, n_jobs=-1, verbose=1)\n",
    "grid_result = grid.fit(trainX, trainY)"
   ]
  },
  {
   "cell_type": "code",
   "execution_count": 67,
   "metadata": {
    "collapsed": false
   },
   "outputs": [
    {
     "name": "stdout",
     "output_type": "stream",
     "text": [
      "MSE LSTM NB=4 : 0.00586441389052\n",
      "MSE LSTM NB=6 : 0.00656935837371\n",
      "MSE LSTM NB=8 : 0.00675000006019\n",
      "MSE LSTM NB=10 : 0.00532124102383\n",
      "MSE LSTM NB=12 : 0.00723281054501\n"
     ]
    },
    {
     "data": {
      "text/plain": [
       "[<matplotlib.lines.Line2D at 0x7fabb0026be0>]"
      ]
     },
     "execution_count": 67,
     "metadata": {},
     "output_type": "execute_result"
    },
    {
     "data": {
      "image/png": "[encoded data removed]",
      "text/plain": [
       "<matplotlib.figure.Figure at 0x7fabafcca358>"
      ]
     },
     "metadata": {},
     "output_type": "display_data"
    }
   ],
   "source": [
    "nb=np.array([4,6,8,10,12])\n",
    "for i in range(0,5):\n",
    "    print('MSE LSTM NB=' + str(nb[i]) + ' :', grid_result.cv_results_['mean_test_score'][i])\n",
    "\n",
    "fig = plt.figure()\n",
    "ax = fig.add_subplot(111)\n",
    "ax.set_xlabel('# Bloques')\n",
    "ax.set_ylabel('Error')\n",
    "ax.set_xticks(np.array([0,1,2,3,4]))\n",
    "ax.set_xticklabels(nb.astype('str'))\n",
    "\n",
    "ax.plot(np.arange(0, nb.size),grid_result.cv_results_['mean_test_score'])\n"
   ]
  },
  {
   "cell_type": "markdown",
   "metadata": {},
   "source": [
    "#### i) Comparación variando el lag"
   ]
  },
  {
   "cell_type": "code",
   "execution_count": 11,
   "metadata": {
    "collapsed": false
   },
   "outputs": [
    {
     "name": "stdout",
     "output_type": "stream",
     "text": [
      "[ 63.8134346   56.13454437  64.10595703  71.64993286]\n"
     ]
    }
   ],
   "source": [
    "lag_scores = np.array([])\n",
    "for i in range(1,5):\n",
    "    model = load_model('RNN-lag' + str(i) + '.h5')\n",
    "    x, y_true = create_dataset(stream_test_scaled, i)\n",
    "    x = np.reshape(x, (x.shape[0], 1, x.shape[1]))\n",
    "    y_pred = model.predict(x)\n",
    "    lag_scores = np.append(lag_scores, rmse(y_true, y_pred))\n",
    "print(lag_scores)"
   ]
  },
  {
   "cell_type": "markdown",
   "metadata": {},
   "source": [
    "#### j) Comparación con GRU y SimpleRNN"
   ]
  },
  {
   "cell_type": "code",
   "execution_count": 12,
   "metadata": {
    "collapsed": false
   },
   "outputs": [
    {
     "name": "stdout",
     "output_type": "stream",
     "text": [
      "74.861 53.9891\n"
     ]
    }
   ],
   "source": [
    "model = load_model('RNN-simple.h5')\n",
    "simple_score = rmse(testY, model.predict(testX))\n",
    "model = load_model('RNN-gru.h5')\n",
    "gru_score = rmse(testY, model.predict(testX))\n",
    "print(simple_score, gru_score)"
   ]
  },
  {
   "cell_type": "markdown",
   "metadata": {},
   "source": [
    "#### k) Cambio en la dimensión de entrada"
   ]
  },
  {
   "cell_type": "code",
   "execution_count": null,
   "metadata": {
    "collapsed": true
   },
   "outputs": [],
   "source": []
  },
  {
   "cell_type": "markdown",
   "metadata": {},
   "source": [
    "#### l) LSTM con memoria entre batches de tamaño 1"
   ]
  },
  {
   "cell_type": "code",
   "execution_count": null,
   "metadata": {
    "collapsed": true
   },
   "outputs": [],
   "source": []
  },
  {
   "cell_type": "markdown",
   "metadata": {},
   "source": [
    "#### m) LSTM con memoria entre batches de tamaño 3"
   ]
  },
  {
   "cell_type": "code",
   "execution_count": null,
   "metadata": {
    "collapsed": true
   },
   "outputs": [],
   "source": []
  },
  {
   "cell_type": "markdown",
   "metadata": {},
   "source": [
    "#### n) LSTM apilada con memoria entre batches"
   ]
  },
  {
   "cell_type": "code",
   "execution_count": null,
   "metadata": {
    "collapsed": true
   },
   "outputs": [],
   "source": []
  }
 ],
 "metadata": {
  "anaconda-cloud": {},
  "kernelspec": {
   "display_name": "Python [conda root]",
   "language": "python",
   "name": "conda-root-py"
  },
  "language_info": {
   "codemirror_mode": {
    "name": "ipython",
    "version": 3
   },
   "file_extension": ".py",
   "mimetype": "text/x-python",
   "name": "python",
   "nbconvert_exporter": "python",
   "pygments_lexer": "ipython3",
   "version": "3.5.2"
  }
 },
 "nbformat": 4,
 "nbformat_minor": 1
}
